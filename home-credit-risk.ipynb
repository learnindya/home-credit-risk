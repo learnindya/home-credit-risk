{
 "cells": [
  {
   "cell_type": "markdown",
   "id": "535031f0-1aa1-4ba0-b7ed-99f722ea13d1",
   "metadata": {},
   "source": [
    "# Home Credit Risk Prediction"
   ]
  },
  {
   "cell_type": "code",
   "execution_count": 338,
   "id": "12e96006-c9fc-4a71-83fe-02712275740d",
   "metadata": {
    "tags": []
   },
   "outputs": [],
   "source": [
    "# Pandas dan Numpy\n",
    "import pandas as pd\n",
    "import numpy as np\n",
    "\n",
    "# Visualization Library\n",
    "import matplotlib.pyplot as plt\n",
    "import seaborn as sns\n",
    "\n",
    "import scipy.stats as st\n",
    "\n",
    "import warnings\n",
    "warnings.simplefilter(action='ignore', category= FutureWarning)\n",
    "pd.set_option('display.max_columns', None)\n",
    "pd.set_option('display.max_rows', None)"
   ]
  },
  {
   "cell_type": "markdown",
   "id": "3e7591c9-e66a-4eec-9ad7-4c7f22b2a3b2",
   "metadata": {},
   "source": [
    "## Problem"
   ]
  },
  {
   "cell_type": "markdown",
   "id": "29f4b100-f905-47ea-bca0-9deb4d5d1fa4",
   "metadata": {},
   "source": [
    "Prediksi skor kredit"
   ]
  },
  {
   "cell_type": "markdown",
   "id": "787d0199-85c5-4d45-b2bd-8bc95a9b56dc",
   "metadata": {},
   "source": [
    "## Goal and Objective"
   ]
  },
  {
   "cell_type": "markdown",
   "id": "0146ace1-c293-4c86-87fb-13ff2e34ce1b",
   "metadata": {},
   "source": [
    "## Metrics"
   ]
  },
  {
   "cell_type": "markdown",
   "id": "d336c143-1639-4c70-92d0-1864089fd817",
   "metadata": {
    "tags": []
   },
   "source": [
    "## EDA"
   ]
  },
  {
   "cell_type": "code",
   "execution_count": 344,
   "id": "336c8c6a-afd0-48a4-91a1-39d6d64c8798",
   "metadata": {
    "tags": []
   },
   "outputs": [],
   "source": [
    "df = pd.read_csv('application_train.csv')"
   ]
  },
  {
   "cell_type": "code",
   "execution_count": 345,
   "id": "72c38c48-1da6-4ce6-8cbe-551a63e1a494",
   "metadata": {
    "tags": []
   },
   "outputs": [
    {
     "data": {
      "text/html": [
       "<div>\n",
       "<style scoped>\n",
       "    .dataframe tbody tr th:only-of-type {\n",
       "        vertical-align: middle;\n",
       "    }\n",
       "\n",
       "    .dataframe tbody tr th {\n",
       "        vertical-align: top;\n",
       "    }\n",
       "\n",
       "    .dataframe thead th {\n",
       "        text-align: right;\n",
       "    }\n",
       "</style>\n",
       "<table border=\"1\" class=\"dataframe\">\n",
       "  <thead>\n",
       "    <tr style=\"text-align: right;\">\n",
       "      <th></th>\n",
       "      <th>SK_ID_CURR</th>\n",
       "      <th>TARGET</th>\n",
       "      <th>NAME_CONTRACT_TYPE</th>\n",
       "      <th>CODE_GENDER</th>\n",
       "      <th>FLAG_OWN_CAR</th>\n",
       "      <th>FLAG_OWN_REALTY</th>\n",
       "      <th>CNT_CHILDREN</th>\n",
       "      <th>AMT_INCOME_TOTAL</th>\n",
       "      <th>AMT_CREDIT</th>\n",
       "      <th>AMT_ANNUITY</th>\n",
       "      <th>AMT_GOODS_PRICE</th>\n",
       "      <th>NAME_TYPE_SUITE</th>\n",
       "      <th>NAME_INCOME_TYPE</th>\n",
       "      <th>NAME_EDUCATION_TYPE</th>\n",
       "      <th>NAME_FAMILY_STATUS</th>\n",
       "      <th>NAME_HOUSING_TYPE</th>\n",
       "      <th>REGION_POPULATION_RELATIVE</th>\n",
       "      <th>DAYS_BIRTH</th>\n",
       "      <th>DAYS_EMPLOYED</th>\n",
       "      <th>DAYS_REGISTRATION</th>\n",
       "      <th>DAYS_ID_PUBLISH</th>\n",
       "      <th>OWN_CAR_AGE</th>\n",
       "      <th>FLAG_MOBIL</th>\n",
       "      <th>FLAG_EMP_PHONE</th>\n",
       "      <th>FLAG_WORK_PHONE</th>\n",
       "      <th>FLAG_CONT_MOBILE</th>\n",
       "      <th>FLAG_PHONE</th>\n",
       "      <th>FLAG_EMAIL</th>\n",
       "      <th>OCCUPATION_TYPE</th>\n",
       "      <th>CNT_FAM_MEMBERS</th>\n",
       "      <th>REGION_RATING_CLIENT</th>\n",
       "      <th>REGION_RATING_CLIENT_W_CITY</th>\n",
       "      <th>WEEKDAY_APPR_PROCESS_START</th>\n",
       "      <th>HOUR_APPR_PROCESS_START</th>\n",
       "      <th>REG_REGION_NOT_LIVE_REGION</th>\n",
       "      <th>REG_REGION_NOT_WORK_REGION</th>\n",
       "      <th>LIVE_REGION_NOT_WORK_REGION</th>\n",
       "      <th>REG_CITY_NOT_LIVE_CITY</th>\n",
       "      <th>REG_CITY_NOT_WORK_CITY</th>\n",
       "      <th>LIVE_CITY_NOT_WORK_CITY</th>\n",
       "      <th>ORGANIZATION_TYPE</th>\n",
       "      <th>EXT_SOURCE_1</th>\n",
       "      <th>EXT_SOURCE_2</th>\n",
       "      <th>EXT_SOURCE_3</th>\n",
       "      <th>APARTMENTS_AVG</th>\n",
       "      <th>BASEMENTAREA_AVG</th>\n",
       "      <th>YEARS_BEGINEXPLUATATION_AVG</th>\n",
       "      <th>YEARS_BUILD_AVG</th>\n",
       "      <th>COMMONAREA_AVG</th>\n",
       "      <th>ELEVATORS_AVG</th>\n",
       "      <th>ENTRANCES_AVG</th>\n",
       "      <th>FLOORSMAX_AVG</th>\n",
       "      <th>FLOORSMIN_AVG</th>\n",
       "      <th>LANDAREA_AVG</th>\n",
       "      <th>LIVINGAPARTMENTS_AVG</th>\n",
       "      <th>LIVINGAREA_AVG</th>\n",
       "      <th>NONLIVINGAPARTMENTS_AVG</th>\n",
       "      <th>NONLIVINGAREA_AVG</th>\n",
       "      <th>APARTMENTS_MODE</th>\n",
       "      <th>BASEMENTAREA_MODE</th>\n",
       "      <th>YEARS_BEGINEXPLUATATION_MODE</th>\n",
       "      <th>YEARS_BUILD_MODE</th>\n",
       "      <th>COMMONAREA_MODE</th>\n",
       "      <th>ELEVATORS_MODE</th>\n",
       "      <th>ENTRANCES_MODE</th>\n",
       "      <th>FLOORSMAX_MODE</th>\n",
       "      <th>FLOORSMIN_MODE</th>\n",
       "      <th>LANDAREA_MODE</th>\n",
       "      <th>LIVINGAPARTMENTS_MODE</th>\n",
       "      <th>LIVINGAREA_MODE</th>\n",
       "      <th>NONLIVINGAPARTMENTS_MODE</th>\n",
       "      <th>NONLIVINGAREA_MODE</th>\n",
       "      <th>APARTMENTS_MEDI</th>\n",
       "      <th>BASEMENTAREA_MEDI</th>\n",
       "      <th>YEARS_BEGINEXPLUATATION_MEDI</th>\n",
       "      <th>YEARS_BUILD_MEDI</th>\n",
       "      <th>COMMONAREA_MEDI</th>\n",
       "      <th>ELEVATORS_MEDI</th>\n",
       "      <th>ENTRANCES_MEDI</th>\n",
       "      <th>FLOORSMAX_MEDI</th>\n",
       "      <th>FLOORSMIN_MEDI</th>\n",
       "      <th>LANDAREA_MEDI</th>\n",
       "      <th>LIVINGAPARTMENTS_MEDI</th>\n",
       "      <th>LIVINGAREA_MEDI</th>\n",
       "      <th>NONLIVINGAPARTMENTS_MEDI</th>\n",
       "      <th>NONLIVINGAREA_MEDI</th>\n",
       "      <th>FONDKAPREMONT_MODE</th>\n",
       "      <th>HOUSETYPE_MODE</th>\n",
       "      <th>TOTALAREA_MODE</th>\n",
       "      <th>WALLSMATERIAL_MODE</th>\n",
       "      <th>EMERGENCYSTATE_MODE</th>\n",
       "      <th>OBS_30_CNT_SOCIAL_CIRCLE</th>\n",
       "      <th>DEF_30_CNT_SOCIAL_CIRCLE</th>\n",
       "      <th>OBS_60_CNT_SOCIAL_CIRCLE</th>\n",
       "      <th>DEF_60_CNT_SOCIAL_CIRCLE</th>\n",
       "      <th>DAYS_LAST_PHONE_CHANGE</th>\n",
       "      <th>FLAG_DOCUMENT_2</th>\n",
       "      <th>FLAG_DOCUMENT_3</th>\n",
       "      <th>FLAG_DOCUMENT_4</th>\n",
       "      <th>FLAG_DOCUMENT_5</th>\n",
       "      <th>FLAG_DOCUMENT_6</th>\n",
       "      <th>FLAG_DOCUMENT_7</th>\n",
       "      <th>FLAG_DOCUMENT_8</th>\n",
       "      <th>FLAG_DOCUMENT_9</th>\n",
       "      <th>FLAG_DOCUMENT_10</th>\n",
       "      <th>FLAG_DOCUMENT_11</th>\n",
       "      <th>FLAG_DOCUMENT_12</th>\n",
       "      <th>FLAG_DOCUMENT_13</th>\n",
       "      <th>FLAG_DOCUMENT_14</th>\n",
       "      <th>FLAG_DOCUMENT_15</th>\n",
       "      <th>FLAG_DOCUMENT_16</th>\n",
       "      <th>FLAG_DOCUMENT_17</th>\n",
       "      <th>FLAG_DOCUMENT_18</th>\n",
       "      <th>FLAG_DOCUMENT_19</th>\n",
       "      <th>FLAG_DOCUMENT_20</th>\n",
       "      <th>FLAG_DOCUMENT_21</th>\n",
       "      <th>AMT_REQ_CREDIT_BUREAU_HOUR</th>\n",
       "      <th>AMT_REQ_CREDIT_BUREAU_DAY</th>\n",
       "      <th>AMT_REQ_CREDIT_BUREAU_WEEK</th>\n",
       "      <th>AMT_REQ_CREDIT_BUREAU_MON</th>\n",
       "      <th>AMT_REQ_CREDIT_BUREAU_QRT</th>\n",
       "      <th>AMT_REQ_CREDIT_BUREAU_YEAR</th>\n",
       "    </tr>\n",
       "  </thead>\n",
       "  <tbody>\n",
       "    <tr>\n",
       "      <th>0</th>\n",
       "      <td>100002</td>\n",
       "      <td>1</td>\n",
       "      <td>Cash loans</td>\n",
       "      <td>M</td>\n",
       "      <td>N</td>\n",
       "      <td>Y</td>\n",
       "      <td>0</td>\n",
       "      <td>202500.0</td>\n",
       "      <td>406597.5</td>\n",
       "      <td>24700.5</td>\n",
       "      <td>351000.0</td>\n",
       "      <td>Unaccompanied</td>\n",
       "      <td>Working</td>\n",
       "      <td>Secondary / secondary special</td>\n",
       "      <td>Single / not married</td>\n",
       "      <td>House / apartment</td>\n",
       "      <td>0.018801</td>\n",
       "      <td>-9461</td>\n",
       "      <td>-637</td>\n",
       "      <td>-3648.0</td>\n",
       "      <td>-2120</td>\n",
       "      <td>NaN</td>\n",
       "      <td>1</td>\n",
       "      <td>1</td>\n",
       "      <td>0</td>\n",
       "      <td>1</td>\n",
       "      <td>1</td>\n",
       "      <td>0</td>\n",
       "      <td>Laborers</td>\n",
       "      <td>1.0</td>\n",
       "      <td>2</td>\n",
       "      <td>2</td>\n",
       "      <td>WEDNESDAY</td>\n",
       "      <td>10</td>\n",
       "      <td>0</td>\n",
       "      <td>0</td>\n",
       "      <td>0</td>\n",
       "      <td>0</td>\n",
       "      <td>0</td>\n",
       "      <td>0</td>\n",
       "      <td>Business Entity Type 3</td>\n",
       "      <td>0.083037</td>\n",
       "      <td>0.262949</td>\n",
       "      <td>0.139376</td>\n",
       "      <td>0.0247</td>\n",
       "      <td>0.0369</td>\n",
       "      <td>0.9722</td>\n",
       "      <td>0.6192</td>\n",
       "      <td>0.0143</td>\n",
       "      <td>0.00</td>\n",
       "      <td>0.0690</td>\n",
       "      <td>0.0833</td>\n",
       "      <td>0.1250</td>\n",
       "      <td>0.0369</td>\n",
       "      <td>0.0202</td>\n",
       "      <td>0.0190</td>\n",
       "      <td>0.0000</td>\n",
       "      <td>0.0000</td>\n",
       "      <td>0.0252</td>\n",
       "      <td>0.0383</td>\n",
       "      <td>0.9722</td>\n",
       "      <td>0.6341</td>\n",
       "      <td>0.0144</td>\n",
       "      <td>0.0000</td>\n",
       "      <td>0.0690</td>\n",
       "      <td>0.0833</td>\n",
       "      <td>0.1250</td>\n",
       "      <td>0.0377</td>\n",
       "      <td>0.022</td>\n",
       "      <td>0.0198</td>\n",
       "      <td>0.0</td>\n",
       "      <td>0.0</td>\n",
       "      <td>0.0250</td>\n",
       "      <td>0.0369</td>\n",
       "      <td>0.9722</td>\n",
       "      <td>0.6243</td>\n",
       "      <td>0.0144</td>\n",
       "      <td>0.00</td>\n",
       "      <td>0.0690</td>\n",
       "      <td>0.0833</td>\n",
       "      <td>0.1250</td>\n",
       "      <td>0.0375</td>\n",
       "      <td>0.0205</td>\n",
       "      <td>0.0193</td>\n",
       "      <td>0.0000</td>\n",
       "      <td>0.00</td>\n",
       "      <td>reg oper account</td>\n",
       "      <td>block of flats</td>\n",
       "      <td>0.0149</td>\n",
       "      <td>Stone, brick</td>\n",
       "      <td>No</td>\n",
       "      <td>2.0</td>\n",
       "      <td>2.0</td>\n",
       "      <td>2.0</td>\n",
       "      <td>2.0</td>\n",
       "      <td>-1134.0</td>\n",
       "      <td>0</td>\n",
       "      <td>1</td>\n",
       "      <td>0</td>\n",
       "      <td>0</td>\n",
       "      <td>0</td>\n",
       "      <td>0</td>\n",
       "      <td>0</td>\n",
       "      <td>0</td>\n",
       "      <td>0</td>\n",
       "      <td>0</td>\n",
       "      <td>0</td>\n",
       "      <td>0</td>\n",
       "      <td>0</td>\n",
       "      <td>0</td>\n",
       "      <td>0</td>\n",
       "      <td>0</td>\n",
       "      <td>0</td>\n",
       "      <td>0</td>\n",
       "      <td>0</td>\n",
       "      <td>0</td>\n",
       "      <td>0.0</td>\n",
       "      <td>0.0</td>\n",
       "      <td>0.0</td>\n",
       "      <td>0.0</td>\n",
       "      <td>0.0</td>\n",
       "      <td>1.0</td>\n",
       "    </tr>\n",
       "    <tr>\n",
       "      <th>1</th>\n",
       "      <td>100003</td>\n",
       "      <td>0</td>\n",
       "      <td>Cash loans</td>\n",
       "      <td>F</td>\n",
       "      <td>N</td>\n",
       "      <td>N</td>\n",
       "      <td>0</td>\n",
       "      <td>270000.0</td>\n",
       "      <td>1293502.5</td>\n",
       "      <td>35698.5</td>\n",
       "      <td>1129500.0</td>\n",
       "      <td>Family</td>\n",
       "      <td>State servant</td>\n",
       "      <td>Higher education</td>\n",
       "      <td>Married</td>\n",
       "      <td>House / apartment</td>\n",
       "      <td>0.003541</td>\n",
       "      <td>-16765</td>\n",
       "      <td>-1188</td>\n",
       "      <td>-1186.0</td>\n",
       "      <td>-291</td>\n",
       "      <td>NaN</td>\n",
       "      <td>1</td>\n",
       "      <td>1</td>\n",
       "      <td>0</td>\n",
       "      <td>1</td>\n",
       "      <td>1</td>\n",
       "      <td>0</td>\n",
       "      <td>Core staff</td>\n",
       "      <td>2.0</td>\n",
       "      <td>1</td>\n",
       "      <td>1</td>\n",
       "      <td>MONDAY</td>\n",
       "      <td>11</td>\n",
       "      <td>0</td>\n",
       "      <td>0</td>\n",
       "      <td>0</td>\n",
       "      <td>0</td>\n",
       "      <td>0</td>\n",
       "      <td>0</td>\n",
       "      <td>School</td>\n",
       "      <td>0.311267</td>\n",
       "      <td>0.622246</td>\n",
       "      <td>NaN</td>\n",
       "      <td>0.0959</td>\n",
       "      <td>0.0529</td>\n",
       "      <td>0.9851</td>\n",
       "      <td>0.7960</td>\n",
       "      <td>0.0605</td>\n",
       "      <td>0.08</td>\n",
       "      <td>0.0345</td>\n",
       "      <td>0.2917</td>\n",
       "      <td>0.3333</td>\n",
       "      <td>0.0130</td>\n",
       "      <td>0.0773</td>\n",
       "      <td>0.0549</td>\n",
       "      <td>0.0039</td>\n",
       "      <td>0.0098</td>\n",
       "      <td>0.0924</td>\n",
       "      <td>0.0538</td>\n",
       "      <td>0.9851</td>\n",
       "      <td>0.8040</td>\n",
       "      <td>0.0497</td>\n",
       "      <td>0.0806</td>\n",
       "      <td>0.0345</td>\n",
       "      <td>0.2917</td>\n",
       "      <td>0.3333</td>\n",
       "      <td>0.0128</td>\n",
       "      <td>0.079</td>\n",
       "      <td>0.0554</td>\n",
       "      <td>0.0</td>\n",
       "      <td>0.0</td>\n",
       "      <td>0.0968</td>\n",
       "      <td>0.0529</td>\n",
       "      <td>0.9851</td>\n",
       "      <td>0.7987</td>\n",
       "      <td>0.0608</td>\n",
       "      <td>0.08</td>\n",
       "      <td>0.0345</td>\n",
       "      <td>0.2917</td>\n",
       "      <td>0.3333</td>\n",
       "      <td>0.0132</td>\n",
       "      <td>0.0787</td>\n",
       "      <td>0.0558</td>\n",
       "      <td>0.0039</td>\n",
       "      <td>0.01</td>\n",
       "      <td>reg oper account</td>\n",
       "      <td>block of flats</td>\n",
       "      <td>0.0714</td>\n",
       "      <td>Block</td>\n",
       "      <td>No</td>\n",
       "      <td>1.0</td>\n",
       "      <td>0.0</td>\n",
       "      <td>1.0</td>\n",
       "      <td>0.0</td>\n",
       "      <td>-828.0</td>\n",
       "      <td>0</td>\n",
       "      <td>1</td>\n",
       "      <td>0</td>\n",
       "      <td>0</td>\n",
       "      <td>0</td>\n",
       "      <td>0</td>\n",
       "      <td>0</td>\n",
       "      <td>0</td>\n",
       "      <td>0</td>\n",
       "      <td>0</td>\n",
       "      <td>0</td>\n",
       "      <td>0</td>\n",
       "      <td>0</td>\n",
       "      <td>0</td>\n",
       "      <td>0</td>\n",
       "      <td>0</td>\n",
       "      <td>0</td>\n",
       "      <td>0</td>\n",
       "      <td>0</td>\n",
       "      <td>0</td>\n",
       "      <td>0.0</td>\n",
       "      <td>0.0</td>\n",
       "      <td>0.0</td>\n",
       "      <td>0.0</td>\n",
       "      <td>0.0</td>\n",
       "      <td>0.0</td>\n",
       "    </tr>\n",
       "    <tr>\n",
       "      <th>2</th>\n",
       "      <td>100004</td>\n",
       "      <td>0</td>\n",
       "      <td>Revolving loans</td>\n",
       "      <td>M</td>\n",
       "      <td>Y</td>\n",
       "      <td>Y</td>\n",
       "      <td>0</td>\n",
       "      <td>67500.0</td>\n",
       "      <td>135000.0</td>\n",
       "      <td>6750.0</td>\n",
       "      <td>135000.0</td>\n",
       "      <td>Unaccompanied</td>\n",
       "      <td>Working</td>\n",
       "      <td>Secondary / secondary special</td>\n",
       "      <td>Single / not married</td>\n",
       "      <td>House / apartment</td>\n",
       "      <td>0.010032</td>\n",
       "      <td>-19046</td>\n",
       "      <td>-225</td>\n",
       "      <td>-4260.0</td>\n",
       "      <td>-2531</td>\n",
       "      <td>26.0</td>\n",
       "      <td>1</td>\n",
       "      <td>1</td>\n",
       "      <td>1</td>\n",
       "      <td>1</td>\n",
       "      <td>1</td>\n",
       "      <td>0</td>\n",
       "      <td>Laborers</td>\n",
       "      <td>1.0</td>\n",
       "      <td>2</td>\n",
       "      <td>2</td>\n",
       "      <td>MONDAY</td>\n",
       "      <td>9</td>\n",
       "      <td>0</td>\n",
       "      <td>0</td>\n",
       "      <td>0</td>\n",
       "      <td>0</td>\n",
       "      <td>0</td>\n",
       "      <td>0</td>\n",
       "      <td>Government</td>\n",
       "      <td>NaN</td>\n",
       "      <td>0.555912</td>\n",
       "      <td>0.729567</td>\n",
       "      <td>NaN</td>\n",
       "      <td>NaN</td>\n",
       "      <td>NaN</td>\n",
       "      <td>NaN</td>\n",
       "      <td>NaN</td>\n",
       "      <td>NaN</td>\n",
       "      <td>NaN</td>\n",
       "      <td>NaN</td>\n",
       "      <td>NaN</td>\n",
       "      <td>NaN</td>\n",
       "      <td>NaN</td>\n",
       "      <td>NaN</td>\n",
       "      <td>NaN</td>\n",
       "      <td>NaN</td>\n",
       "      <td>NaN</td>\n",
       "      <td>NaN</td>\n",
       "      <td>NaN</td>\n",
       "      <td>NaN</td>\n",
       "      <td>NaN</td>\n",
       "      <td>NaN</td>\n",
       "      <td>NaN</td>\n",
       "      <td>NaN</td>\n",
       "      <td>NaN</td>\n",
       "      <td>NaN</td>\n",
       "      <td>NaN</td>\n",
       "      <td>NaN</td>\n",
       "      <td>NaN</td>\n",
       "      <td>NaN</td>\n",
       "      <td>NaN</td>\n",
       "      <td>NaN</td>\n",
       "      <td>NaN</td>\n",
       "      <td>NaN</td>\n",
       "      <td>NaN</td>\n",
       "      <td>NaN</td>\n",
       "      <td>NaN</td>\n",
       "      <td>NaN</td>\n",
       "      <td>NaN</td>\n",
       "      <td>NaN</td>\n",
       "      <td>NaN</td>\n",
       "      <td>NaN</td>\n",
       "      <td>NaN</td>\n",
       "      <td>NaN</td>\n",
       "      <td>NaN</td>\n",
       "      <td>NaN</td>\n",
       "      <td>NaN</td>\n",
       "      <td>NaN</td>\n",
       "      <td>NaN</td>\n",
       "      <td>0.0</td>\n",
       "      <td>0.0</td>\n",
       "      <td>0.0</td>\n",
       "      <td>0.0</td>\n",
       "      <td>-815.0</td>\n",
       "      <td>0</td>\n",
       "      <td>0</td>\n",
       "      <td>0</td>\n",
       "      <td>0</td>\n",
       "      <td>0</td>\n",
       "      <td>0</td>\n",
       "      <td>0</td>\n",
       "      <td>0</td>\n",
       "      <td>0</td>\n",
       "      <td>0</td>\n",
       "      <td>0</td>\n",
       "      <td>0</td>\n",
       "      <td>0</td>\n",
       "      <td>0</td>\n",
       "      <td>0</td>\n",
       "      <td>0</td>\n",
       "      <td>0</td>\n",
       "      <td>0</td>\n",
       "      <td>0</td>\n",
       "      <td>0</td>\n",
       "      <td>0.0</td>\n",
       "      <td>0.0</td>\n",
       "      <td>0.0</td>\n",
       "      <td>0.0</td>\n",
       "      <td>0.0</td>\n",
       "      <td>0.0</td>\n",
       "    </tr>\n",
       "  </tbody>\n",
       "</table>\n",
       "</div>"
      ],
      "text/plain": [
       "   SK_ID_CURR  TARGET NAME_CONTRACT_TYPE CODE_GENDER FLAG_OWN_CAR  \\\n",
       "0      100002       1         Cash loans           M            N   \n",
       "1      100003       0         Cash loans           F            N   \n",
       "2      100004       0    Revolving loans           M            Y   \n",
       "\n",
       "  FLAG_OWN_REALTY  CNT_CHILDREN  AMT_INCOME_TOTAL  AMT_CREDIT  AMT_ANNUITY  \\\n",
       "0               Y             0          202500.0    406597.5      24700.5   \n",
       "1               N             0          270000.0   1293502.5      35698.5   \n",
       "2               Y             0           67500.0    135000.0       6750.0   \n",
       "\n",
       "   AMT_GOODS_PRICE NAME_TYPE_SUITE NAME_INCOME_TYPE  \\\n",
       "0         351000.0   Unaccompanied          Working   \n",
       "1        1129500.0          Family    State servant   \n",
       "2         135000.0   Unaccompanied          Working   \n",
       "\n",
       "             NAME_EDUCATION_TYPE    NAME_FAMILY_STATUS  NAME_HOUSING_TYPE  \\\n",
       "0  Secondary / secondary special  Single / not married  House / apartment   \n",
       "1               Higher education               Married  House / apartment   \n",
       "2  Secondary / secondary special  Single / not married  House / apartment   \n",
       "\n",
       "   REGION_POPULATION_RELATIVE  DAYS_BIRTH  DAYS_EMPLOYED  DAYS_REGISTRATION  \\\n",
       "0                    0.018801       -9461           -637            -3648.0   \n",
       "1                    0.003541      -16765          -1188            -1186.0   \n",
       "2                    0.010032      -19046           -225            -4260.0   \n",
       "\n",
       "   DAYS_ID_PUBLISH  OWN_CAR_AGE  FLAG_MOBIL  FLAG_EMP_PHONE  FLAG_WORK_PHONE  \\\n",
       "0            -2120          NaN           1               1                0   \n",
       "1             -291          NaN           1               1                0   \n",
       "2            -2531         26.0           1               1                1   \n",
       "\n",
       "   FLAG_CONT_MOBILE  FLAG_PHONE  FLAG_EMAIL OCCUPATION_TYPE  CNT_FAM_MEMBERS  \\\n",
       "0                 1           1           0        Laborers              1.0   \n",
       "1                 1           1           0      Core staff              2.0   \n",
       "2                 1           1           0        Laborers              1.0   \n",
       "\n",
       "   REGION_RATING_CLIENT  REGION_RATING_CLIENT_W_CITY  \\\n",
       "0                     2                            2   \n",
       "1                     1                            1   \n",
       "2                     2                            2   \n",
       "\n",
       "  WEEKDAY_APPR_PROCESS_START  HOUR_APPR_PROCESS_START  \\\n",
       "0                  WEDNESDAY                       10   \n",
       "1                     MONDAY                       11   \n",
       "2                     MONDAY                        9   \n",
       "\n",
       "   REG_REGION_NOT_LIVE_REGION  REG_REGION_NOT_WORK_REGION  \\\n",
       "0                           0                           0   \n",
       "1                           0                           0   \n",
       "2                           0                           0   \n",
       "\n",
       "   LIVE_REGION_NOT_WORK_REGION  REG_CITY_NOT_LIVE_CITY  \\\n",
       "0                            0                       0   \n",
       "1                            0                       0   \n",
       "2                            0                       0   \n",
       "\n",
       "   REG_CITY_NOT_WORK_CITY  LIVE_CITY_NOT_WORK_CITY       ORGANIZATION_TYPE  \\\n",
       "0                       0                        0  Business Entity Type 3   \n",
       "1                       0                        0                  School   \n",
       "2                       0                        0              Government   \n",
       "\n",
       "   EXT_SOURCE_1  EXT_SOURCE_2  EXT_SOURCE_3  APARTMENTS_AVG  BASEMENTAREA_AVG  \\\n",
       "0      0.083037      0.262949      0.139376          0.0247            0.0369   \n",
       "1      0.311267      0.622246           NaN          0.0959            0.0529   \n",
       "2           NaN      0.555912      0.729567             NaN               NaN   \n",
       "\n",
       "   YEARS_BEGINEXPLUATATION_AVG  YEARS_BUILD_AVG  COMMONAREA_AVG  \\\n",
       "0                       0.9722           0.6192          0.0143   \n",
       "1                       0.9851           0.7960          0.0605   \n",
       "2                          NaN              NaN             NaN   \n",
       "\n",
       "   ELEVATORS_AVG  ENTRANCES_AVG  FLOORSMAX_AVG  FLOORSMIN_AVG  LANDAREA_AVG  \\\n",
       "0           0.00         0.0690         0.0833         0.1250        0.0369   \n",
       "1           0.08         0.0345         0.2917         0.3333        0.0130   \n",
       "2            NaN            NaN            NaN            NaN           NaN   \n",
       "\n",
       "   LIVINGAPARTMENTS_AVG  LIVINGAREA_AVG  NONLIVINGAPARTMENTS_AVG  \\\n",
       "0                0.0202          0.0190                   0.0000   \n",
       "1                0.0773          0.0549                   0.0039   \n",
       "2                   NaN             NaN                      NaN   \n",
       "\n",
       "   NONLIVINGAREA_AVG  APARTMENTS_MODE  BASEMENTAREA_MODE  \\\n",
       "0             0.0000           0.0252             0.0383   \n",
       "1             0.0098           0.0924             0.0538   \n",
       "2                NaN              NaN                NaN   \n",
       "\n",
       "   YEARS_BEGINEXPLUATATION_MODE  YEARS_BUILD_MODE  COMMONAREA_MODE  \\\n",
       "0                        0.9722            0.6341           0.0144   \n",
       "1                        0.9851            0.8040           0.0497   \n",
       "2                           NaN               NaN              NaN   \n",
       "\n",
       "   ELEVATORS_MODE  ENTRANCES_MODE  FLOORSMAX_MODE  FLOORSMIN_MODE  \\\n",
       "0          0.0000          0.0690          0.0833          0.1250   \n",
       "1          0.0806          0.0345          0.2917          0.3333   \n",
       "2             NaN             NaN             NaN             NaN   \n",
       "\n",
       "   LANDAREA_MODE  LIVINGAPARTMENTS_MODE  LIVINGAREA_MODE  \\\n",
       "0         0.0377                  0.022           0.0198   \n",
       "1         0.0128                  0.079           0.0554   \n",
       "2            NaN                    NaN              NaN   \n",
       "\n",
       "   NONLIVINGAPARTMENTS_MODE  NONLIVINGAREA_MODE  APARTMENTS_MEDI  \\\n",
       "0                       0.0                 0.0           0.0250   \n",
       "1                       0.0                 0.0           0.0968   \n",
       "2                       NaN                 NaN              NaN   \n",
       "\n",
       "   BASEMENTAREA_MEDI  YEARS_BEGINEXPLUATATION_MEDI  YEARS_BUILD_MEDI  \\\n",
       "0             0.0369                        0.9722            0.6243   \n",
       "1             0.0529                        0.9851            0.7987   \n",
       "2                NaN                           NaN               NaN   \n",
       "\n",
       "   COMMONAREA_MEDI  ELEVATORS_MEDI  ENTRANCES_MEDI  FLOORSMAX_MEDI  \\\n",
       "0           0.0144            0.00          0.0690          0.0833   \n",
       "1           0.0608            0.08          0.0345          0.2917   \n",
       "2              NaN             NaN             NaN             NaN   \n",
       "\n",
       "   FLOORSMIN_MEDI  LANDAREA_MEDI  LIVINGAPARTMENTS_MEDI  LIVINGAREA_MEDI  \\\n",
       "0          0.1250         0.0375                 0.0205           0.0193   \n",
       "1          0.3333         0.0132                 0.0787           0.0558   \n",
       "2             NaN            NaN                    NaN              NaN   \n",
       "\n",
       "   NONLIVINGAPARTMENTS_MEDI  NONLIVINGAREA_MEDI FONDKAPREMONT_MODE  \\\n",
       "0                    0.0000                0.00   reg oper account   \n",
       "1                    0.0039                0.01   reg oper account   \n",
       "2                       NaN                 NaN                NaN   \n",
       "\n",
       "   HOUSETYPE_MODE  TOTALAREA_MODE WALLSMATERIAL_MODE EMERGENCYSTATE_MODE  \\\n",
       "0  block of flats          0.0149       Stone, brick                  No   \n",
       "1  block of flats          0.0714              Block                  No   \n",
       "2             NaN             NaN                NaN                 NaN   \n",
       "\n",
       "   OBS_30_CNT_SOCIAL_CIRCLE  DEF_30_CNT_SOCIAL_CIRCLE  \\\n",
       "0                       2.0                       2.0   \n",
       "1                       1.0                       0.0   \n",
       "2                       0.0                       0.0   \n",
       "\n",
       "   OBS_60_CNT_SOCIAL_CIRCLE  DEF_60_CNT_SOCIAL_CIRCLE  DAYS_LAST_PHONE_CHANGE  \\\n",
       "0                       2.0                       2.0                 -1134.0   \n",
       "1                       1.0                       0.0                  -828.0   \n",
       "2                       0.0                       0.0                  -815.0   \n",
       "\n",
       "   FLAG_DOCUMENT_2  FLAG_DOCUMENT_3  FLAG_DOCUMENT_4  FLAG_DOCUMENT_5  \\\n",
       "0                0                1                0                0   \n",
       "1                0                1                0                0   \n",
       "2                0                0                0                0   \n",
       "\n",
       "   FLAG_DOCUMENT_6  FLAG_DOCUMENT_7  FLAG_DOCUMENT_8  FLAG_DOCUMENT_9  \\\n",
       "0                0                0                0                0   \n",
       "1                0                0                0                0   \n",
       "2                0                0                0                0   \n",
       "\n",
       "   FLAG_DOCUMENT_10  FLAG_DOCUMENT_11  FLAG_DOCUMENT_12  FLAG_DOCUMENT_13  \\\n",
       "0                 0                 0                 0                 0   \n",
       "1                 0                 0                 0                 0   \n",
       "2                 0                 0                 0                 0   \n",
       "\n",
       "   FLAG_DOCUMENT_14  FLAG_DOCUMENT_15  FLAG_DOCUMENT_16  FLAG_DOCUMENT_17  \\\n",
       "0                 0                 0                 0                 0   \n",
       "1                 0                 0                 0                 0   \n",
       "2                 0                 0                 0                 0   \n",
       "\n",
       "   FLAG_DOCUMENT_18  FLAG_DOCUMENT_19  FLAG_DOCUMENT_20  FLAG_DOCUMENT_21  \\\n",
       "0                 0                 0                 0                 0   \n",
       "1                 0                 0                 0                 0   \n",
       "2                 0                 0                 0                 0   \n",
       "\n",
       "   AMT_REQ_CREDIT_BUREAU_HOUR  AMT_REQ_CREDIT_BUREAU_DAY  \\\n",
       "0                         0.0                        0.0   \n",
       "1                         0.0                        0.0   \n",
       "2                         0.0                        0.0   \n",
       "\n",
       "   AMT_REQ_CREDIT_BUREAU_WEEK  AMT_REQ_CREDIT_BUREAU_MON  \\\n",
       "0                         0.0                        0.0   \n",
       "1                         0.0                        0.0   \n",
       "2                         0.0                        0.0   \n",
       "\n",
       "   AMT_REQ_CREDIT_BUREAU_QRT  AMT_REQ_CREDIT_BUREAU_YEAR  \n",
       "0                        0.0                         1.0  \n",
       "1                        0.0                         0.0  \n",
       "2                        0.0                         0.0  "
      ]
     },
     "execution_count": 345,
     "metadata": {},
     "output_type": "execute_result"
    }
   ],
   "source": [
    "df.head(3)"
   ]
  },
  {
   "cell_type": "code",
   "execution_count": 346,
   "id": "a9958e8c-31f9-4b48-84cf-4be6d7c86dd4",
   "metadata": {
    "tags": []
   },
   "outputs": [
    {
     "data": {
      "text/plain": [
       "(307511, 122)"
      ]
     },
     "execution_count": 346,
     "metadata": {},
     "output_type": "execute_result"
    }
   ],
   "source": [
    "df.shape"
   ]
  },
  {
   "cell_type": "code",
   "execution_count": 347,
   "id": "54c58acd-a002-4397-8b6e-8992e4d97ba8",
   "metadata": {
    "tags": []
   },
   "outputs": [],
   "source": [
    "test = pd.read_csv('application_test.csv')"
   ]
  },
  {
   "cell_type": "code",
   "execution_count": 348,
   "id": "3fc0e07f-2f4c-4651-94b3-deeb2fe21324",
   "metadata": {
    "tags": []
   },
   "outputs": [],
   "source": [
    "bureau = pd.read_csv('bureau.csv')"
   ]
  },
  {
   "cell_type": "code",
   "execution_count": 349,
   "id": "491c745a-8067-42ac-9c8c-436a994db25a",
   "metadata": {
    "tags": []
   },
   "outputs": [],
   "source": [
    "balance = pd.read_csv('bureau_balance.csv')"
   ]
  },
  {
   "cell_type": "code",
   "execution_count": 350,
   "id": "79d26663-542a-4fa0-94e0-f2598a0f12b0",
   "metadata": {
    "tags": []
   },
   "outputs": [],
   "source": [
    "pos = pd.read_csv('POS_CASH_balance.csv')"
   ]
  },
  {
   "cell_type": "code",
   "execution_count": 351,
   "id": "a59bb01e-4ebe-4d17-beaa-e45cb3776ab5",
   "metadata": {
    "tags": []
   },
   "outputs": [],
   "source": [
    "credit = pd.read_csv('credit_card_balance.csv')"
   ]
  },
  {
   "cell_type": "code",
   "execution_count": 352,
   "id": "422ea77a-d510-471d-bdc6-094f2728d275",
   "metadata": {
    "tags": []
   },
   "outputs": [],
   "source": [
    "previous = pd.read_csv('previous_application.csv')"
   ]
  },
  {
   "cell_type": "code",
   "execution_count": 353,
   "id": "6608edb6-5fae-44b4-baa6-70ad721e5440",
   "metadata": {
    "tags": []
   },
   "outputs": [],
   "source": [
    "installment = pd.read_csv('installments_payments.csv')"
   ]
  },
  {
   "cell_type": "code",
   "execution_count": 354,
   "id": "71580487-3d6c-466d-b0c8-8dda10db72b4",
   "metadata": {
    "tags": []
   },
   "outputs": [
    {
     "name": "stdout",
     "output_type": "stream",
     "text": [
      "<class 'pandas.core.frame.DataFrame'>\n",
      "RangeIndex: 307511 entries, 0 to 307510\n",
      "Columns: 122 entries, SK_ID_CURR to AMT_REQ_CREDIT_BUREAU_YEAR\n",
      "dtypes: float64(65), int64(41), object(16)\n",
      "memory usage: 286.2+ MB\n"
     ]
    }
   ],
   "source": [
    "df.info()"
   ]
  },
  {
   "cell_type": "code",
   "execution_count": 355,
   "id": "5f96e988-2b37-4a3d-a77d-9a48a20082b6",
   "metadata": {
    "tags": []
   },
   "outputs": [
    {
     "name": "stdout",
     "output_type": "stream",
     "text": [
      "<class 'pandas.core.frame.DataFrame'>\n",
      "RangeIndex: 48744 entries, 0 to 48743\n",
      "Columns: 121 entries, SK_ID_CURR to AMT_REQ_CREDIT_BUREAU_YEAR\n",
      "dtypes: float64(65), int64(40), object(16)\n",
      "memory usage: 45.0+ MB\n"
     ]
    }
   ],
   "source": [
    "test.info()"
   ]
  },
  {
   "cell_type": "code",
   "execution_count": 356,
   "id": "0c56bd7b-2c66-4c29-b69b-7efecacd97e5",
   "metadata": {
    "tags": []
   },
   "outputs": [
    {
     "name": "stdout",
     "output_type": "stream",
     "text": [
      "Column: SK_ID_CURR\n",
      "Dtype: int64\n",
      "\n",
      "Column: TARGET\n",
      "Dtype: int64\n",
      "\n",
      "Column: NAME_CONTRACT_TYPE\n",
      "Dtype: object\n",
      "\n",
      "Column: CODE_GENDER\n",
      "Dtype: object\n",
      "\n",
      "Column: FLAG_OWN_CAR\n",
      "Dtype: object\n",
      "\n",
      "Column: FLAG_OWN_REALTY\n",
      "Dtype: object\n",
      "\n",
      "Column: CNT_CHILDREN\n",
      "Dtype: int64\n",
      "\n",
      "Column: AMT_INCOME_TOTAL\n",
      "Dtype: float64\n",
      "\n",
      "Column: AMT_CREDIT\n",
      "Dtype: float64\n",
      "\n",
      "Column: AMT_ANNUITY\n",
      "Dtype: float64\n",
      "\n",
      "Column: AMT_GOODS_PRICE\n",
      "Dtype: float64\n",
      "\n",
      "Column: NAME_TYPE_SUITE\n",
      "Dtype: object\n",
      "\n",
      "Column: NAME_INCOME_TYPE\n",
      "Dtype: object\n",
      "\n",
      "Column: NAME_EDUCATION_TYPE\n",
      "Dtype: object\n",
      "\n",
      "Column: NAME_FAMILY_STATUS\n",
      "Dtype: object\n",
      "\n",
      "Column: NAME_HOUSING_TYPE\n",
      "Dtype: object\n",
      "\n",
      "Column: REGION_POPULATION_RELATIVE\n",
      "Dtype: float64\n",
      "\n",
      "Column: DAYS_BIRTH\n",
      "Dtype: int64\n",
      "\n",
      "Column: DAYS_EMPLOYED\n",
      "Dtype: int64\n",
      "\n",
      "Column: DAYS_REGISTRATION\n",
      "Dtype: float64\n",
      "\n",
      "Column: DAYS_ID_PUBLISH\n",
      "Dtype: int64\n",
      "\n",
      "Column: OWN_CAR_AGE\n",
      "Dtype: float64\n",
      "\n",
      "Column: FLAG_MOBIL\n",
      "Dtype: int64\n",
      "\n",
      "Column: FLAG_EMP_PHONE\n",
      "Dtype: int64\n",
      "\n",
      "Column: FLAG_WORK_PHONE\n",
      "Dtype: int64\n",
      "\n",
      "Column: FLAG_CONT_MOBILE\n",
      "Dtype: int64\n",
      "\n",
      "Column: FLAG_PHONE\n",
      "Dtype: int64\n",
      "\n",
      "Column: FLAG_EMAIL\n",
      "Dtype: int64\n",
      "\n",
      "Column: OCCUPATION_TYPE\n",
      "Dtype: object\n",
      "\n",
      "Column: CNT_FAM_MEMBERS\n",
      "Dtype: float64\n",
      "\n",
      "Column: REGION_RATING_CLIENT\n",
      "Dtype: int64\n",
      "\n",
      "Column: REGION_RATING_CLIENT_W_CITY\n",
      "Dtype: int64\n",
      "\n",
      "Column: WEEKDAY_APPR_PROCESS_START\n",
      "Dtype: object\n",
      "\n",
      "Column: HOUR_APPR_PROCESS_START\n",
      "Dtype: int64\n",
      "\n",
      "Column: REG_REGION_NOT_LIVE_REGION\n",
      "Dtype: int64\n",
      "\n",
      "Column: REG_REGION_NOT_WORK_REGION\n",
      "Dtype: int64\n",
      "\n",
      "Column: LIVE_REGION_NOT_WORK_REGION\n",
      "Dtype: int64\n",
      "\n",
      "Column: REG_CITY_NOT_LIVE_CITY\n",
      "Dtype: int64\n",
      "\n",
      "Column: REG_CITY_NOT_WORK_CITY\n",
      "Dtype: int64\n",
      "\n",
      "Column: LIVE_CITY_NOT_WORK_CITY\n",
      "Dtype: int64\n",
      "\n",
      "Column: ORGANIZATION_TYPE\n",
      "Dtype: object\n",
      "\n",
      "Column: EXT_SOURCE_1\n",
      "Dtype: float64\n",
      "\n",
      "Column: EXT_SOURCE_2\n",
      "Dtype: float64\n",
      "\n",
      "Column: EXT_SOURCE_3\n",
      "Dtype: float64\n",
      "\n",
      "Column: APARTMENTS_AVG\n",
      "Dtype: float64\n",
      "\n",
      "Column: BASEMENTAREA_AVG\n",
      "Dtype: float64\n",
      "\n",
      "Column: YEARS_BEGINEXPLUATATION_AVG\n",
      "Dtype: float64\n",
      "\n",
      "Column: YEARS_BUILD_AVG\n",
      "Dtype: float64\n",
      "\n",
      "Column: COMMONAREA_AVG\n",
      "Dtype: float64\n",
      "\n",
      "Column: ELEVATORS_AVG\n",
      "Dtype: float64\n",
      "\n",
      "Column: ENTRANCES_AVG\n",
      "Dtype: float64\n",
      "\n",
      "Column: FLOORSMAX_AVG\n",
      "Dtype: float64\n",
      "\n",
      "Column: FLOORSMIN_AVG\n",
      "Dtype: float64\n",
      "\n",
      "Column: LANDAREA_AVG\n",
      "Dtype: float64\n",
      "\n",
      "Column: LIVINGAPARTMENTS_AVG\n",
      "Dtype: float64\n",
      "\n",
      "Column: LIVINGAREA_AVG\n",
      "Dtype: float64\n",
      "\n",
      "Column: NONLIVINGAPARTMENTS_AVG\n",
      "Dtype: float64\n",
      "\n",
      "Column: NONLIVINGAREA_AVG\n",
      "Dtype: float64\n",
      "\n",
      "Column: APARTMENTS_MODE\n",
      "Dtype: float64\n",
      "\n",
      "Column: BASEMENTAREA_MODE\n",
      "Dtype: float64\n",
      "\n",
      "Column: YEARS_BEGINEXPLUATATION_MODE\n",
      "Dtype: float64\n",
      "\n",
      "Column: YEARS_BUILD_MODE\n",
      "Dtype: float64\n",
      "\n",
      "Column: COMMONAREA_MODE\n",
      "Dtype: float64\n",
      "\n",
      "Column: ELEVATORS_MODE\n",
      "Dtype: float64\n",
      "\n",
      "Column: ENTRANCES_MODE\n",
      "Dtype: float64\n",
      "\n",
      "Column: FLOORSMAX_MODE\n",
      "Dtype: float64\n",
      "\n",
      "Column: FLOORSMIN_MODE\n",
      "Dtype: float64\n",
      "\n",
      "Column: LANDAREA_MODE\n",
      "Dtype: float64\n",
      "\n",
      "Column: LIVINGAPARTMENTS_MODE\n",
      "Dtype: float64\n",
      "\n",
      "Column: LIVINGAREA_MODE\n",
      "Dtype: float64\n",
      "\n",
      "Column: NONLIVINGAPARTMENTS_MODE\n",
      "Dtype: float64\n",
      "\n",
      "Column: NONLIVINGAREA_MODE\n",
      "Dtype: float64\n",
      "\n",
      "Column: APARTMENTS_MEDI\n",
      "Dtype: float64\n",
      "\n",
      "Column: BASEMENTAREA_MEDI\n",
      "Dtype: float64\n",
      "\n",
      "Column: YEARS_BEGINEXPLUATATION_MEDI\n",
      "Dtype: float64\n",
      "\n",
      "Column: YEARS_BUILD_MEDI\n",
      "Dtype: float64\n",
      "\n",
      "Column: COMMONAREA_MEDI\n",
      "Dtype: float64\n",
      "\n",
      "Column: ELEVATORS_MEDI\n",
      "Dtype: float64\n",
      "\n",
      "Column: ENTRANCES_MEDI\n",
      "Dtype: float64\n",
      "\n",
      "Column: FLOORSMAX_MEDI\n",
      "Dtype: float64\n",
      "\n",
      "Column: FLOORSMIN_MEDI\n",
      "Dtype: float64\n",
      "\n",
      "Column: LANDAREA_MEDI\n",
      "Dtype: float64\n",
      "\n",
      "Column: LIVINGAPARTMENTS_MEDI\n",
      "Dtype: float64\n",
      "\n",
      "Column: LIVINGAREA_MEDI\n",
      "Dtype: float64\n",
      "\n",
      "Column: NONLIVINGAPARTMENTS_MEDI\n",
      "Dtype: float64\n",
      "\n",
      "Column: NONLIVINGAREA_MEDI\n",
      "Dtype: float64\n",
      "\n",
      "Column: FONDKAPREMONT_MODE\n",
      "Dtype: object\n",
      "\n",
      "Column: HOUSETYPE_MODE\n",
      "Dtype: object\n",
      "\n",
      "Column: TOTALAREA_MODE\n",
      "Dtype: float64\n",
      "\n",
      "Column: WALLSMATERIAL_MODE\n",
      "Dtype: object\n",
      "\n",
      "Column: EMERGENCYSTATE_MODE\n",
      "Dtype: object\n",
      "\n",
      "Column: OBS_30_CNT_SOCIAL_CIRCLE\n",
      "Dtype: float64\n",
      "\n",
      "Column: DEF_30_CNT_SOCIAL_CIRCLE\n",
      "Dtype: float64\n",
      "\n",
      "Column: OBS_60_CNT_SOCIAL_CIRCLE\n",
      "Dtype: float64\n",
      "\n",
      "Column: DEF_60_CNT_SOCIAL_CIRCLE\n",
      "Dtype: float64\n",
      "\n",
      "Column: DAYS_LAST_PHONE_CHANGE\n",
      "Dtype: float64\n",
      "\n",
      "Column: FLAG_DOCUMENT_2\n",
      "Dtype: int64\n",
      "\n",
      "Column: FLAG_DOCUMENT_3\n",
      "Dtype: int64\n",
      "\n",
      "Column: FLAG_DOCUMENT_4\n",
      "Dtype: int64\n",
      "\n",
      "Column: FLAG_DOCUMENT_5\n",
      "Dtype: int64\n",
      "\n",
      "Column: FLAG_DOCUMENT_6\n",
      "Dtype: int64\n",
      "\n",
      "Column: FLAG_DOCUMENT_7\n",
      "Dtype: int64\n",
      "\n",
      "Column: FLAG_DOCUMENT_8\n",
      "Dtype: int64\n",
      "\n",
      "Column: FLAG_DOCUMENT_9\n",
      "Dtype: int64\n",
      "\n",
      "Column: FLAG_DOCUMENT_10\n",
      "Dtype: int64\n",
      "\n",
      "Column: FLAG_DOCUMENT_11\n",
      "Dtype: int64\n",
      "\n",
      "Column: FLAG_DOCUMENT_12\n",
      "Dtype: int64\n",
      "\n",
      "Column: FLAG_DOCUMENT_13\n",
      "Dtype: int64\n",
      "\n",
      "Column: FLAG_DOCUMENT_14\n",
      "Dtype: int64\n",
      "\n",
      "Column: FLAG_DOCUMENT_15\n",
      "Dtype: int64\n",
      "\n",
      "Column: FLAG_DOCUMENT_16\n",
      "Dtype: int64\n",
      "\n",
      "Column: FLAG_DOCUMENT_17\n",
      "Dtype: int64\n",
      "\n",
      "Column: FLAG_DOCUMENT_18\n",
      "Dtype: int64\n",
      "\n",
      "Column: FLAG_DOCUMENT_19\n",
      "Dtype: int64\n",
      "\n",
      "Column: FLAG_DOCUMENT_20\n",
      "Dtype: int64\n",
      "\n",
      "Column: FLAG_DOCUMENT_21\n",
      "Dtype: int64\n",
      "\n",
      "Column: AMT_REQ_CREDIT_BUREAU_HOUR\n",
      "Dtype: float64\n",
      "\n",
      "Column: AMT_REQ_CREDIT_BUREAU_DAY\n",
      "Dtype: float64\n",
      "\n",
      "Column: AMT_REQ_CREDIT_BUREAU_WEEK\n",
      "Dtype: float64\n",
      "\n",
      "Column: AMT_REQ_CREDIT_BUREAU_MON\n",
      "Dtype: float64\n",
      "\n",
      "Column: AMT_REQ_CREDIT_BUREAU_QRT\n",
      "Dtype: float64\n",
      "\n",
      "Column: AMT_REQ_CREDIT_BUREAU_YEAR\n",
      "Dtype: float64\n",
      "\n"
     ]
    }
   ],
   "source": [
    "for col in df.columns:\n",
    "    print(f\"Column: {col}\")\n",
    "    print(f\"Dtype: {df[col].dtype}\")\n",
    "    print()"
   ]
  },
  {
   "cell_type": "code",
   "execution_count": 357,
   "id": "56338df4-f5fa-4d9a-8c5f-ad1dcf520350",
   "metadata": {
    "tags": []
   },
   "outputs": [
    {
     "data": {
      "text/plain": [
       "0"
      ]
     },
     "execution_count": 357,
     "metadata": {},
     "output_type": "execute_result"
    }
   ],
   "source": [
    "# check duplicate rows\n",
    "df.duplicated().sum()"
   ]
  },
  {
   "cell_type": "code",
   "execution_count": 358,
   "id": "132b47ff-a802-4d22-8472-1534cc876f94",
   "metadata": {
    "tags": []
   },
   "outputs": [
    {
     "data": {
      "text/plain": [
       "SK_ID_CURR                           0\n",
       "TARGET                               0\n",
       "NAME_CONTRACT_TYPE                   0\n",
       "CODE_GENDER                          0\n",
       "FLAG_OWN_CAR                         0\n",
       "FLAG_OWN_REALTY                      0\n",
       "CNT_CHILDREN                         0\n",
       "AMT_INCOME_TOTAL                     0\n",
       "AMT_CREDIT                           0\n",
       "AMT_ANNUITY                         12\n",
       "AMT_GOODS_PRICE                    278\n",
       "NAME_TYPE_SUITE                   1292\n",
       "NAME_INCOME_TYPE                     0\n",
       "NAME_EDUCATION_TYPE                  0\n",
       "NAME_FAMILY_STATUS                   0\n",
       "NAME_HOUSING_TYPE                    0\n",
       "REGION_POPULATION_RELATIVE           0\n",
       "DAYS_BIRTH                           0\n",
       "DAYS_EMPLOYED                        0\n",
       "DAYS_REGISTRATION                    0\n",
       "DAYS_ID_PUBLISH                      0\n",
       "OWN_CAR_AGE                     202929\n",
       "FLAG_MOBIL                           0\n",
       "FLAG_EMP_PHONE                       0\n",
       "FLAG_WORK_PHONE                      0\n",
       "FLAG_CONT_MOBILE                     0\n",
       "FLAG_PHONE                           0\n",
       "FLAG_EMAIL                           0\n",
       "OCCUPATION_TYPE                  96391\n",
       "CNT_FAM_MEMBERS                      2\n",
       "REGION_RATING_CLIENT                 0\n",
       "REGION_RATING_CLIENT_W_CITY          0\n",
       "WEEKDAY_APPR_PROCESS_START           0\n",
       "HOUR_APPR_PROCESS_START              0\n",
       "REG_REGION_NOT_LIVE_REGION           0\n",
       "REG_REGION_NOT_WORK_REGION           0\n",
       "LIVE_REGION_NOT_WORK_REGION          0\n",
       "REG_CITY_NOT_LIVE_CITY               0\n",
       "REG_CITY_NOT_WORK_CITY               0\n",
       "LIVE_CITY_NOT_WORK_CITY              0\n",
       "ORGANIZATION_TYPE                    0\n",
       "EXT_SOURCE_1                    173378\n",
       "EXT_SOURCE_2                       660\n",
       "EXT_SOURCE_3                     60965\n",
       "APARTMENTS_AVG                  156061\n",
       "BASEMENTAREA_AVG                179943\n",
       "YEARS_BEGINEXPLUATATION_AVG     150007\n",
       "YEARS_BUILD_AVG                 204488\n",
       "COMMONAREA_AVG                  214865\n",
       "ELEVATORS_AVG                   163891\n",
       "ENTRANCES_AVG                   154828\n",
       "FLOORSMAX_AVG                   153020\n",
       "FLOORSMIN_AVG                   208642\n",
       "LANDAREA_AVG                    182590\n",
       "LIVINGAPARTMENTS_AVG            210199\n",
       "LIVINGAREA_AVG                  154350\n",
       "NONLIVINGAPARTMENTS_AVG         213514\n",
       "NONLIVINGAREA_AVG               169682\n",
       "APARTMENTS_MODE                 156061\n",
       "BASEMENTAREA_MODE               179943\n",
       "YEARS_BEGINEXPLUATATION_MODE    150007\n",
       "YEARS_BUILD_MODE                204488\n",
       "COMMONAREA_MODE                 214865\n",
       "ELEVATORS_MODE                  163891\n",
       "ENTRANCES_MODE                  154828\n",
       "FLOORSMAX_MODE                  153020\n",
       "FLOORSMIN_MODE                  208642\n",
       "LANDAREA_MODE                   182590\n",
       "LIVINGAPARTMENTS_MODE           210199\n",
       "LIVINGAREA_MODE                 154350\n",
       "NONLIVINGAPARTMENTS_MODE        213514\n",
       "NONLIVINGAREA_MODE              169682\n",
       "APARTMENTS_MEDI                 156061\n",
       "BASEMENTAREA_MEDI               179943\n",
       "YEARS_BEGINEXPLUATATION_MEDI    150007\n",
       "YEARS_BUILD_MEDI                204488\n",
       "COMMONAREA_MEDI                 214865\n",
       "ELEVATORS_MEDI                  163891\n",
       "ENTRANCES_MEDI                  154828\n",
       "FLOORSMAX_MEDI                  153020\n",
       "FLOORSMIN_MEDI                  208642\n",
       "LANDAREA_MEDI                   182590\n",
       "LIVINGAPARTMENTS_MEDI           210199\n",
       "LIVINGAREA_MEDI                 154350\n",
       "NONLIVINGAPARTMENTS_MEDI        213514\n",
       "NONLIVINGAREA_MEDI              169682\n",
       "FONDKAPREMONT_MODE              210295\n",
       "HOUSETYPE_MODE                  154297\n",
       "TOTALAREA_MODE                  148431\n",
       "WALLSMATERIAL_MODE              156341\n",
       "EMERGENCYSTATE_MODE             145755\n",
       "OBS_30_CNT_SOCIAL_CIRCLE          1021\n",
       "DEF_30_CNT_SOCIAL_CIRCLE          1021\n",
       "OBS_60_CNT_SOCIAL_CIRCLE          1021\n",
       "DEF_60_CNT_SOCIAL_CIRCLE          1021\n",
       "DAYS_LAST_PHONE_CHANGE               1\n",
       "FLAG_DOCUMENT_2                      0\n",
       "FLAG_DOCUMENT_3                      0\n",
       "FLAG_DOCUMENT_4                      0\n",
       "FLAG_DOCUMENT_5                      0\n",
       "FLAG_DOCUMENT_6                      0\n",
       "FLAG_DOCUMENT_7                      0\n",
       "FLAG_DOCUMENT_8                      0\n",
       "FLAG_DOCUMENT_9                      0\n",
       "FLAG_DOCUMENT_10                     0\n",
       "FLAG_DOCUMENT_11                     0\n",
       "FLAG_DOCUMENT_12                     0\n",
       "FLAG_DOCUMENT_13                     0\n",
       "FLAG_DOCUMENT_14                     0\n",
       "FLAG_DOCUMENT_15                     0\n",
       "FLAG_DOCUMENT_16                     0\n",
       "FLAG_DOCUMENT_17                     0\n",
       "FLAG_DOCUMENT_18                     0\n",
       "FLAG_DOCUMENT_19                     0\n",
       "FLAG_DOCUMENT_20                     0\n",
       "FLAG_DOCUMENT_21                     0\n",
       "AMT_REQ_CREDIT_BUREAU_HOUR       41519\n",
       "AMT_REQ_CREDIT_BUREAU_DAY        41519\n",
       "AMT_REQ_CREDIT_BUREAU_WEEK       41519\n",
       "AMT_REQ_CREDIT_BUREAU_MON        41519\n",
       "AMT_REQ_CREDIT_BUREAU_QRT        41519\n",
       "AMT_REQ_CREDIT_BUREAU_YEAR       41519\n",
       "dtype: int64"
      ]
     },
     "execution_count": 358,
     "metadata": {},
     "output_type": "execute_result"
    }
   ],
   "source": [
    "# check missing values\n",
    "df.isnull().sum()"
   ]
  },
  {
   "cell_type": "code",
   "execution_count": 359,
   "id": "ca4d7ef3-d586-46ef-84d5-2d7c6c2c83c4",
   "metadata": {
    "tags": []
   },
   "outputs": [
    {
     "data": {
      "text/plain": [
       "array(['Single / not married', 'Married', 'Civil marriage', 'Widow',\n",
       "       'Separated', 'Unknown'], dtype=object)"
      ]
     },
     "execution_count": 359,
     "metadata": {},
     "output_type": "execute_result"
    }
   ],
   "source": [
    "df['NAME_FAMILY_STATUS'].unique()"
   ]
  },
  {
   "cell_type": "code",
   "execution_count": 360,
   "id": "b1172f75-e01f-41de-916e-2e97ed12e9eb",
   "metadata": {
    "tags": []
   },
   "outputs": [
    {
     "data": {
      "text/plain": [
       "array(['Business Entity Type 3', 'School', 'Government', 'Religion',\n",
       "       'Other', 'XNA', 'Electricity', 'Medicine',\n",
       "       'Business Entity Type 2', 'Self-employed', 'Transport: type 2',\n",
       "       'Construction', 'Housing', 'Kindergarten', 'Trade: type 7',\n",
       "       'Industry: type 11', 'Military', 'Services', 'Security Ministries',\n",
       "       'Transport: type 4', 'Industry: type 1', 'Emergency', 'Security',\n",
       "       'Trade: type 2', 'University', 'Transport: type 3', 'Police',\n",
       "       'Business Entity Type 1', 'Postal', 'Industry: type 4',\n",
       "       'Agriculture', 'Restaurant', 'Culture', 'Hotel',\n",
       "       'Industry: type 7', 'Trade: type 3', 'Industry: type 3', 'Bank',\n",
       "       'Industry: type 9', 'Insurance', 'Trade: type 6',\n",
       "       'Industry: type 2', 'Transport: type 1', 'Industry: type 12',\n",
       "       'Mobile', 'Trade: type 1', 'Industry: type 5', 'Industry: type 10',\n",
       "       'Legal Services', 'Advertising', 'Trade: type 5', 'Cleaning',\n",
       "       'Industry: type 13', 'Trade: type 4', 'Telecom',\n",
       "       'Industry: type 8', 'Realtor', 'Industry: type 6'], dtype=object)"
      ]
     },
     "execution_count": 360,
     "metadata": {},
     "output_type": "execute_result"
    }
   ],
   "source": [
    "df['ORGANIZATION_TYPE'].unique()"
   ]
  },
  {
   "cell_type": "code",
   "execution_count": 361,
   "id": "fe787459-1bc3-406a-be4f-995c9876a39d",
   "metadata": {
    "tags": []
   },
   "outputs": [
    {
     "data": {
      "text/plain": [
       "array(['M', 'F', 'XNA'], dtype=object)"
      ]
     },
     "execution_count": 361,
     "metadata": {},
     "output_type": "execute_result"
    }
   ],
   "source": [
    "df['CODE_GENDER'].unique()"
   ]
  },
  {
   "cell_type": "markdown",
   "id": "7131cc8b-1ffd-4cb9-b7db-b0436e6ea079",
   "metadata": {},
   "source": [
    "## Data Cleaning"
   ]
  },
  {
   "cell_type": "markdown",
   "id": "0e07965a-3e82-41bb-ad5e-40a326e7c87e",
   "metadata": {},
   "source": [
    "More than 50% missing values: OWN_CAR_AGE,\n",
    "APARTMENTS_AVG\n",
    "BASEMENTAREA_AVG\n",
    "YEARS_BEGINEXPLUATATION_AVG\n",
    "YEARS_BUILD_AVG\n",
    "COMMONAREA_AVG\n",
    "ELEVATORS_AVG\n",
    "ENTRANCES_AVG\n",
    "FLOORSMAX_AVG\n",
    "FLOORSMIN_AVG\n",
    "LANDAREA_AVG\n",
    "LIVINGAPARTMENTS_AVG\n",
    "LIVINGAREA_AVG\n",
    "NONLIVINGAPARTMENTS_AVG\n",
    "NONLIVINGAREA_AVG\n",
    "APARTMENTS_MODE\n",
    "BASEMENTAREA_MODE\n",
    "YEARS_BEGINEXPLUATATION_MODE\n",
    "YEARS_BUILD_MODE\n",
    "COMMONAREA_MODE\n",
    "ELEVATORS_MODE\n",
    "ENTRANCES_MODE\n",
    "FLOORSMAX_MODE\n",
    "FLOORSMIN_MODE\n",
    "LANDAREA_MODE\n",
    "LIVINGAPARTMENTS_MODE\n",
    "LIVINGAREA_MODE\n",
    "NONLIVINGAPARTMENTS_MODE\n",
    "NONLIVINGAREA_MODE\n",
    "APARTMENTS_MEDI\n",
    "BASEMENTAREA_MEDI\n",
    "YEARS_BEGINEXPLUATATION_MEDI\n",
    "YEARS_BUILD_MEDI\n",
    "COMMONAREA_MEDI\n",
    "ELEVATORS_MEDI\n",
    "ENTRANCES_MEDI\n",
    "FLOORSMAX_MEDI\n",
    "FLOORSMIN_MEDI\n",
    "LANDAREA_MEDI\n",
    "LIVINGAPARTMENTS_MEDI\n",
    "LIVINGAREA_MEDI\n",
    "NONLIVINGAPARTMENTS_MEDI\n",
    "NONLIVINGAREA_MEDI\n",
    "FONDKAPREMONT_MODE\n",
    "HOUSETYPE_MODE\n",
    "TOTALAREA_MODE\n",
    "WALLSMATERIAL_MODE\n",
    "EMERGENCYSTATE_MODE\n",
    "\n",
    "Not relevant: \n",
    "FLAG_MOBIL\n",
    "FLAG_EMP_PHONE\n",
    "FLAG_WORK_PHONE\n",
    "FLAG_CONT_MOBILE\n",
    "FLAG_PHONE\n",
    "FLAG_EMAIL\n",
    "WEEKDAY_APPR_PROCESS_START\n",
    "HOUR_APPR_PROCESS_START\n",
    "REG_REGION_NOT_LIVE_REGION\n",
    "REG_REGION_NOT_WORK_REGION\n",
    "LIVE_REGION_NOT_WORK_REGION\n",
    "REG_CITY_NOT_LIVE_CITY\n",
    "REG_CITY_NOT_WORK_CITY\n",
    "LIVE_CITY_NOT_WORK_CITY\n",
    "REGION_POPULATION_RELATIVE\n",
    "DAYS_REGISTRATION"
   ]
  },
  {
   "cell_type": "code",
   "execution_count": 364,
   "id": "301cdac7-0c06-4444-bdc3-45328072338a",
   "metadata": {
    "tags": []
   },
   "outputs": [],
   "source": [
    "df.drop(['OWN_CAR_AGE', \n",
    "         'APARTMENTS_AVG',\n",
    "'BASEMENTAREA_AVG',\n",
    "'YEARS_BEGINEXPLUATATION_AVG',\n",
    "'YEARS_BUILD_AVG',\n",
    "'COMMONAREA_AVG',\n",
    "'ELEVATORS_AVG',\n",
    "'ENTRANCES_AVG',\n",
    "'FLOORSMAX_AVG',\n",
    "'FLOORSMIN_AVG',\n",
    "'LANDAREA_AVG',\n",
    "'LIVINGAPARTMENTS_AVG',\n",
    "'LIVINGAREA_AVG',\n",
    "'NONLIVINGAPARTMENTS_AVG',\n",
    "'NONLIVINGAREA_AVG',\n",
    "'APARTMENTS_MODE',\n",
    "'BASEMENTAREA_MODE',\n",
    "'YEARS_BEGINEXPLUATATION_MODE',\n",
    "'YEARS_BUILD_MODE',\n",
    "'COMMONAREA_MODE',\n",
    "'ELEVATORS_MODE',\n",
    "'ENTRANCES_MODE',\n",
    "'FLOORSMAX_MODE',\n",
    "'FLOORSMIN_MODE',\n",
    "'LANDAREA_MODE',\n",
    "'LIVINGAPARTMENTS_MODE',\n",
    "'LIVINGAREA_MODE',\n",
    "'NONLIVINGAPARTMENTS_MODE',\n",
    "'NONLIVINGAREA_MODE',\n",
    "'APARTMENTS_MEDI',\n",
    "'BASEMENTAREA_MEDI',\n",
    "'YEARS_BEGINEXPLUATATION_MEDI',\n",
    "'YEARS_BUILD_MEDI',\n",
    "'COMMONAREA_MEDI',\n",
    "'ELEVATORS_MEDI',\n",
    "'ENTRANCES_MEDI',\n",
    "'FLOORSMAX_MEDI',\n",
    "'FLOORSMIN_MEDI',\n",
    "'LANDAREA_MEDI',\n",
    "'LIVINGAPARTMENTS_MEDI',\n",
    "'LIVINGAREA_MEDI',\n",
    "'NONLIVINGAPARTMENTS_MEDI',\n",
    "'NONLIVINGAREA_MEDI',\n",
    "'FONDKAPREMONT_MODE',\n",
    "'HOUSETYPE_MODE',\n",
    "'TOTALAREA_MODE',\n",
    "'WALLSMATERIAL_MODE',\n",
    "'EMERGENCYSTATE_MODE', \n",
    "'FLAG_MOBIL',\n",
    "'FLAG_EMP_PHONE',\n",
    "'FLAG_WORK_PHONE',\n",
    "'FLAG_CONT_MOBILE',\n",
    "'FLAG_PHONE',\n",
    "'FLAG_EMAIL',\n",
    "'WEEKDAY_APPR_PROCESS_START',\n",
    "'HOUR_APPR_PROCESS_START',\n",
    "'REG_REGION_NOT_LIVE_REGION',\n",
    "'REG_REGION_NOT_WORK_REGION',\n",
    "'LIVE_REGION_NOT_WORK_REGION',\n",
    "'REG_CITY_NOT_LIVE_CITY',\n",
    "'REG_CITY_NOT_WORK_CITY',\n",
    "'LIVE_CITY_NOT_WORK_CITY',\n",
    "'REGION_POPULATION_RELATIVE',\n",
    "'DAYS_REGISTRATION'], axis=1, inplace=True)"
   ]
  },
  {
   "cell_type": "code",
   "execution_count": 365,
   "id": "3854bf35-4bd0-4034-8abf-3a55fd76ed9e",
   "metadata": {
    "tags": []
   },
   "outputs": [],
   "source": [
    "test.drop(['OWN_CAR_AGE', \n",
    "         'APARTMENTS_AVG',\n",
    "'BASEMENTAREA_AVG',\n",
    "'YEARS_BEGINEXPLUATATION_AVG',\n",
    "'YEARS_BUILD_AVG',\n",
    "'COMMONAREA_AVG',\n",
    "'ELEVATORS_AVG',\n",
    "'ENTRANCES_AVG',\n",
    "'FLOORSMAX_AVG',\n",
    "'FLOORSMIN_AVG',\n",
    "'LANDAREA_AVG',\n",
    "'LIVINGAPARTMENTS_AVG',\n",
    "'LIVINGAREA_AVG',\n",
    "'NONLIVINGAPARTMENTS_AVG',\n",
    "'NONLIVINGAREA_AVG',\n",
    "'APARTMENTS_MODE',\n",
    "'BASEMENTAREA_MODE',\n",
    "'YEARS_BEGINEXPLUATATION_MODE',\n",
    "'YEARS_BUILD_MODE',\n",
    "'COMMONAREA_MODE',\n",
    "'ELEVATORS_MODE',\n",
    "'ENTRANCES_MODE',\n",
    "'FLOORSMAX_MODE',\n",
    "'FLOORSMIN_MODE',\n",
    "'LANDAREA_MODE',\n",
    "'LIVINGAPARTMENTS_MODE',\n",
    "'LIVINGAREA_MODE',\n",
    "'NONLIVINGAPARTMENTS_MODE',\n",
    "'NONLIVINGAREA_MODE',\n",
    "'APARTMENTS_MEDI',\n",
    "'BASEMENTAREA_MEDI',\n",
    "'YEARS_BEGINEXPLUATATION_MEDI',\n",
    "'YEARS_BUILD_MEDI',\n",
    "'COMMONAREA_MEDI',\n",
    "'ELEVATORS_MEDI',\n",
    "'ENTRANCES_MEDI',\n",
    "'FLOORSMAX_MEDI',\n",
    "'FLOORSMIN_MEDI',\n",
    "'LANDAREA_MEDI',\n",
    "'LIVINGAPARTMENTS_MEDI',\n",
    "'LIVINGAREA_MEDI',\n",
    "'NONLIVINGAPARTMENTS_MEDI',\n",
    "'NONLIVINGAREA_MEDI',\n",
    "'FONDKAPREMONT_MODE',\n",
    "'HOUSETYPE_MODE',\n",
    "'TOTALAREA_MODE',\n",
    "'WALLSMATERIAL_MODE',\n",
    "'EMERGENCYSTATE_MODE', \n",
    "'FLAG_MOBIL',\n",
    "'FLAG_EMP_PHONE',\n",
    "'FLAG_WORK_PHONE',\n",
    "'FLAG_CONT_MOBILE',\n",
    "'FLAG_PHONE',\n",
    "'FLAG_EMAIL',\n",
    "'WEEKDAY_APPR_PROCESS_START',\n",
    "'HOUR_APPR_PROCESS_START',\n",
    "'REG_REGION_NOT_LIVE_REGION',\n",
    "'REG_REGION_NOT_WORK_REGION',\n",
    "'LIVE_REGION_NOT_WORK_REGION',\n",
    "'REG_CITY_NOT_LIVE_CITY',\n",
    "'REG_CITY_NOT_WORK_CITY',\n",
    "'LIVE_CITY_NOT_WORK_CITY',\n",
    "'REGION_POPULATION_RELATIVE',\n",
    "'DAYS_REGISTRATION'], axis=1, inplace=True)"
   ]
  },
  {
   "cell_type": "markdown",
   "id": "3ce7f65c-078b-4893-9efd-dfdfed69fed4",
   "metadata": {},
   "source": [
    "## Data Preprocessing"
   ]
  },
  {
   "cell_type": "markdown",
   "id": "94efc465-dea0-467a-b4df-42b8e9e7a380",
   "metadata": {},
   "source": [
    "### Feature Encoding"
   ]
  },
  {
   "cell_type": "code",
   "execution_count": 368,
   "id": "1ca3648f-ca94-49fa-bc99-488e9edf7457",
   "metadata": {
    "tags": []
   },
   "outputs": [],
   "source": [
    "# Label encoding\n",
    "from sklearn.preprocessing import LabelEncoder\n",
    "le = LabelEncoder()"
   ]
  },
  {
   "cell_type": "code",
   "execution_count": 369,
   "id": "7324985b-da1e-48f3-ae7c-6adf083f1a12",
   "metadata": {
    "tags": []
   },
   "outputs": [],
   "source": [
    "df['NAME_CONTRACT_TYPE']=le.fit_transform(df['NAME_CONTRACT_TYPE'])\n",
    "df['FLAG_OWN_CAR']=le.fit_transform(df['FLAG_OWN_CAR'])\n",
    "df['FLAG_OWN_REALTY']=le.fit_transform(df['FLAG_OWN_REALTY'])"
   ]
  },
  {
   "cell_type": "code",
   "execution_count": 370,
   "id": "437f60f7-08af-45b0-abe9-fb20f159f5f8",
   "metadata": {
    "tags": []
   },
   "outputs": [],
   "source": [
    "test['NAME_CONTRACT_TYPE']=le.fit_transform(test['NAME_CONTRACT_TYPE'])\n",
    "test['FLAG_OWN_CAR']=le.fit_transform(test['FLAG_OWN_CAR'])\n",
    "test['FLAG_OWN_REALTY']=le.fit_transform(test['FLAG_OWN_REALTY'])"
   ]
  },
  {
   "cell_type": "code",
   "execution_count": 371,
   "id": "19afaf8b-21b4-4d33-bb83-198557e6fbfc",
   "metadata": {
    "tags": []
   },
   "outputs": [],
   "source": [
    "# One-hot encoding\n",
    "dummy_gender = pd.get_dummies(df['CODE_GENDER'], prefix='GENDER', dtype=int)\n",
    "dummy_car = pd.get_dummies(df['FLAG_OWN_CAR'], prefix='CAR', dtype=int)\n",
    "dummy_realty = pd.get_dummies(df['FLAG_OWN_REALTY'], prefix='REALTY', dtype=int)\n",
    "dummy_suite = pd.get_dummies(df['NAME_TYPE_SUITE'], prefix='SUITE', dtype=int)\n",
    "dummy_income = pd.get_dummies(df['NAME_INCOME_TYPE'], prefix='INCOME', dtype=int)\n",
    "dummy_education = pd.get_dummies(df['NAME_EDUCATION_TYPE'], prefix='EDUCATION', dtype=int)\n",
    "dummy_family = pd.get_dummies(df['NAME_FAMILY_STATUS'], prefix='FAMILY', dtype=int)\n",
    "dummy_housing = pd.get_dummies(df['NAME_HOUSING_TYPE'], prefix='HOUSING', dtype=int)\n",
    "dummy_occupation = pd.get_dummies(df['OCCUPATION_TYPE'], prefix='OCCUPATION', dtype=int)\n",
    "dummy_org = pd.get_dummies(df['ORGANIZATION_TYPE'], prefix='ORG', dtype=int)\n",
    "\n",
    "df = pd.concat([df, dummy_gender, dummy_car, dummy_realty, dummy_suite, dummy_income, dummy_education,\n",
    "               dummy_family, dummy_housing, dummy_occupation, dummy_org], axis=1)"
   ]
  },
  {
   "cell_type": "code",
   "execution_count": 372,
   "id": "97ef4b21-bd39-437e-8ce2-4424fa0c6400",
   "metadata": {
    "tags": []
   },
   "outputs": [],
   "source": [
    "df.drop(['CODE_GENDER','FLAG_OWN_CAR','FLAG_OWN_REALTY','NAME_TYPE_SUITE','NAME_INCOME_TYPE',\n",
    "        'NAME_EDUCATION_TYPE','NAME_FAMILY_STATUS','NAME_HOUSING_TYPE','OCCUPATION_TYPE',\n",
    "        'ORGANIZATION_TYPE'], axis=1, inplace=True)"
   ]
  },
  {
   "cell_type": "code",
   "execution_count": 373,
   "id": "95c1efd9-a482-4712-b8f7-0e8ae8da9d44",
   "metadata": {
    "tags": []
   },
   "outputs": [],
   "source": [
    "dummy_gender = pd.get_dummies(test['CODE_GENDER'], prefix='GENDER', dtype=int)\n",
    "dummy_car = pd.get_dummies(test['FLAG_OWN_CAR'], prefix='CAR', dtype=int)\n",
    "dummy_realty = pd.get_dummies(test['FLAG_OWN_REALTY'], prefix='REALTY', dtype=int)\n",
    "dummy_suite = pd.get_dummies(test['NAME_TYPE_SUITE'], prefix='SUITE', dtype=int)\n",
    "dummy_income = pd.get_dummies(test['NAME_INCOME_TYPE'], prefix='INCOME', dtype=int)\n",
    "dummy_education = pd.get_dummies(test['NAME_EDUCATION_TYPE'], prefix='EDUCATION', dtype=int)\n",
    "dummy_family = pd.get_dummies(test['NAME_FAMILY_STATUS'], prefix='FAMILY', dtype=int)\n",
    "dummy_housing = pd.get_dummies(test['NAME_HOUSING_TYPE'], prefix='HOUSING', dtype=int)\n",
    "dummy_occupation = pd.get_dummies(test['OCCUPATION_TYPE'], prefix='OCCUPATION', dtype=int)\n",
    "dummy_org = pd.get_dummies(test['ORGANIZATION_TYPE'], prefix='ORG', dtype=int)\n",
    "\n",
    "test = pd.concat([test, dummy_gender, dummy_car, dummy_realty, dummy_suite, dummy_income, dummy_education,\n",
    "               dummy_family, dummy_housing, dummy_occupation, dummy_org], axis=1)"
   ]
  },
  {
   "cell_type": "code",
   "execution_count": 374,
   "id": "358a028d-7565-4a49-9a9f-af0d24cd40f2",
   "metadata": {
    "tags": []
   },
   "outputs": [
    {
     "data": {
      "text/plain": [
       "(307511, 163)"
      ]
     },
     "execution_count": 374,
     "metadata": {},
     "output_type": "execute_result"
    }
   ],
   "source": [
    "# check columns\n",
    "df.shape"
   ]
  },
  {
   "cell_type": "code",
   "execution_count": 375,
   "id": "622c40c0-ad7b-491d-86f6-0a7b07347f4f",
   "metadata": {
    "tags": []
   },
   "outputs": [
    {
     "data": {
      "text/plain": [
       "(48744, 169)"
      ]
     },
     "execution_count": 375,
     "metadata": {},
     "output_type": "execute_result"
    }
   ],
   "source": [
    "test.shape"
   ]
  },
  {
   "cell_type": "code",
   "execution_count": 376,
   "id": "1527c1d3-1099-4778-aba7-c81c10c7e846",
   "metadata": {
    "tags": []
   },
   "outputs": [],
   "source": [
    "# delete columns that are not in both train & test data\n",
    "train_labels = df['TARGET']\n",
    "\n",
    "df, test = df.align(test, join = 'inner', axis = 1)\n",
    "\n",
    "df['TARGET'] = train_labels"
   ]
  },
  {
   "cell_type": "code",
   "execution_count": 377,
   "id": "39193274-cc9d-4e57-83e6-64ab8058d56e",
   "metadata": {
    "tags": []
   },
   "outputs": [],
   "source": [
    "train_labels = df['TARGET']\n",
    "\n",
    "test, df = test.align(df, join = 'inner', axis = 1)\n",
    "\n",
    "df['TARGET'] = train_labels"
   ]
  },
  {
   "cell_type": "code",
   "execution_count": 378,
   "id": "43e0cccf-9daa-4791-8746-572c0d486861",
   "metadata": {
    "tags": []
   },
   "outputs": [
    {
     "data": {
      "text/plain": [
       "(307511, 160)"
      ]
     },
     "execution_count": 378,
     "metadata": {},
     "output_type": "execute_result"
    }
   ],
   "source": [
    "df.shape"
   ]
  },
  {
   "cell_type": "code",
   "execution_count": 379,
   "id": "6a9a0341-a08c-4c58-8a01-2ef6bd3313b2",
   "metadata": {
    "tags": []
   },
   "outputs": [
    {
     "data": {
      "text/plain": [
       "(48744, 159)"
      ]
     },
     "execution_count": 379,
     "metadata": {},
     "output_type": "execute_result"
    }
   ],
   "source": [
    "test.shape"
   ]
  },
  {
   "cell_type": "markdown",
   "id": "d71a0f67-16b4-45dd-8258-d784692f0aad",
   "metadata": {},
   "source": [
    "### Correlation"
   ]
  },
  {
   "cell_type": "code",
   "execution_count": 381,
   "id": "942fa9a7-f188-447d-b418-3cf49f7aaa3c",
   "metadata": {
    "tags": []
   },
   "outputs": [],
   "source": [
    "numerical = df.select_dtypes(exclude='object')"
   ]
  },
  {
   "cell_type": "code",
   "execution_count": 382,
   "id": "0d9e63d5-e8e6-4f6d-97d9-fe6a84014744",
   "metadata": {
    "tags": []
   },
   "outputs": [],
   "source": [
    "corr = numerical.corr()['TARGET'].sort_values()"
   ]
  },
  {
   "cell_type": "code",
   "execution_count": 383,
   "id": "aa0b318a-e705-4c18-b05c-437f3f4f071b",
   "metadata": {
    "tags": []
   },
   "outputs": [
    {
     "data": {
      "text/plain": [
       "FLAG_DOCUMENT_3                            0.044346\n",
       "EDUCATION_Secondary / secondary special    0.049824\n",
       "DAYS_ID_PUBLISH                            0.051457\n",
       "GENDER_M                                   0.054713\n",
       "DAYS_LAST_PHONE_CHANGE                     0.055218\n",
       "INCOME_Working                             0.057481\n",
       "REGION_RATING_CLIENT                       0.058899\n",
       "REGION_RATING_CLIENT_W_CITY                0.060893\n",
       "DAYS_BIRTH                                 0.078239\n",
       "TARGET                                     1.000000\n",
       "Name: TARGET, dtype: float64"
      ]
     },
     "execution_count": 383,
     "metadata": {},
     "output_type": "execute_result"
    }
   ],
   "source": [
    "corr.tail(10)"
   ]
  },
  {
   "cell_type": "code",
   "execution_count": 384,
   "id": "e63d37d4-fe91-4f45-922f-f1697a5a6780",
   "metadata": {
    "tags": []
   },
   "outputs": [
    {
     "data": {
      "text/plain": [
       "EXT_SOURCE_3                 -0.178919\n",
       "EXT_SOURCE_2                 -0.160472\n",
       "EXT_SOURCE_1                 -0.155317\n",
       "EDUCATION_Higher education   -0.056593\n",
       "GENDER_F                     -0.054704\n",
       "INCOME_Pensioner             -0.046209\n",
       "ORG_XNA                      -0.045987\n",
       "DAYS_EMPLOYED                -0.044932\n",
       "AMT_GOODS_PRICE              -0.039645\n",
       "NAME_CONTRACT_TYPE           -0.030896\n",
       "Name: TARGET, dtype: float64"
      ]
     },
     "execution_count": 384,
     "metadata": {},
     "output_type": "execute_result"
    }
   ],
   "source": [
    "corr.head(10)"
   ]
  },
  {
   "cell_type": "markdown",
   "id": "177706e9-5ad4-4a14-9166-1080428d2c8c",
   "metadata": {},
   "source": [
    "### Handle missing values"
   ]
  },
  {
   "cell_type": "markdown",
   "id": "9e22d1f5-a489-42d2-9a2d-981c560b8417",
   "metadata": {},
   "source": [
    "AMT_ANNUITY                         12\n",
    "AMT_GOODS_PRICE                    278\n",
    "NAME_TYPE_SUITE                   1292\n",
    "OCCUPATION_TYPE                  96391\n",
    "CNT_FAM_MEMBERS                      2\n",
    "EXT_SOURCE_1                    173378\n",
    "EXT_SOURCE_2                       660\n",
    "EXT_SOURCE_3                     60965\n",
    "OBS_30_CNT_SOCIAL_CIRCLE          1021\n",
    "DEF_30_CNT_SOCIAL_CIRCLE          1021\n",
    "OBS_60_CNT_SOCIAL_CIRCLE          1021\n",
    "DEF_60_CNT_SOCIAL_CIRCLE          1021\n",
    "DAYS_LAST_PHONE_CHANGE               1\n",
    "AMT_REQ_CREDIT_BUREAU_HOUR       41519\n",
    "AMT_REQ_CREDIT_BUREAU_DAY        41519\n",
    "AMT_REQ_CREDIT_BUREAU_WEEK       41519\n",
    "AMT_REQ_CREDIT_BUREAU_MON        41519\n",
    "AMT_REQ_CREDIT_BUREAU_QRT        41519\n",
    "AMT_REQ_CREDIT_BUREAU_YEAR       41519"
   ]
  },
  {
   "cell_type": "code",
   "execution_count": 387,
   "id": "bcaab668-dffd-4668-ad1d-a289454f18f9",
   "metadata": {
    "tags": []
   },
   "outputs": [],
   "source": [
    "from sklearn.impute import SimpleImputer"
   ]
  },
  {
   "cell_type": "code",
   "execution_count": 388,
   "id": "212c7041-f62b-43a3-b98a-07a67adf317f",
   "metadata": {
    "tags": []
   },
   "outputs": [],
   "source": [
    "imputer = SimpleImputer(strategy='median')"
   ]
  },
  {
   "cell_type": "code",
   "execution_count": 389,
   "id": "8c1fcc1a-696b-4cc9-8b32-d81e2a25dc2e",
   "metadata": {
    "tags": []
   },
   "outputs": [
    {
     "data": {
      "text/html": [
       "<style>#sk-container-id-6 {color: black;background-color: white;}#sk-container-id-6 pre{padding: 0;}#sk-container-id-6 div.sk-toggleable {background-color: white;}#sk-container-id-6 label.sk-toggleable__label {cursor: pointer;display: block;width: 100%;margin-bottom: 0;padding: 0.3em;box-sizing: border-box;text-align: center;}#sk-container-id-6 label.sk-toggleable__label-arrow:before {content: \"▸\";float: left;margin-right: 0.25em;color: #696969;}#sk-container-id-6 label.sk-toggleable__label-arrow:hover:before {color: black;}#sk-container-id-6 div.sk-estimator:hover label.sk-toggleable__label-arrow:before {color: black;}#sk-container-id-6 div.sk-toggleable__content {max-height: 0;max-width: 0;overflow: hidden;text-align: left;background-color: #f0f8ff;}#sk-container-id-6 div.sk-toggleable__content pre {margin: 0.2em;color: black;border-radius: 0.25em;background-color: #f0f8ff;}#sk-container-id-6 input.sk-toggleable__control:checked~div.sk-toggleable__content {max-height: 200px;max-width: 100%;overflow: auto;}#sk-container-id-6 input.sk-toggleable__control:checked~label.sk-toggleable__label-arrow:before {content: \"▾\";}#sk-container-id-6 div.sk-estimator input.sk-toggleable__control:checked~label.sk-toggleable__label {background-color: #d4ebff;}#sk-container-id-6 div.sk-label input.sk-toggleable__control:checked~label.sk-toggleable__label {background-color: #d4ebff;}#sk-container-id-6 input.sk-hidden--visually {border: 0;clip: rect(1px 1px 1px 1px);clip: rect(1px, 1px, 1px, 1px);height: 1px;margin: -1px;overflow: hidden;padding: 0;position: absolute;width: 1px;}#sk-container-id-6 div.sk-estimator {font-family: monospace;background-color: #f0f8ff;border: 1px dotted black;border-radius: 0.25em;box-sizing: border-box;margin-bottom: 0.5em;}#sk-container-id-6 div.sk-estimator:hover {background-color: #d4ebff;}#sk-container-id-6 div.sk-parallel-item::after {content: \"\";width: 100%;border-bottom: 1px solid gray;flex-grow: 1;}#sk-container-id-6 div.sk-label:hover label.sk-toggleable__label {background-color: #d4ebff;}#sk-container-id-6 div.sk-serial::before {content: \"\";position: absolute;border-left: 1px solid gray;box-sizing: border-box;top: 0;bottom: 0;left: 50%;z-index: 0;}#sk-container-id-6 div.sk-serial {display: flex;flex-direction: column;align-items: center;background-color: white;padding-right: 0.2em;padding-left: 0.2em;position: relative;}#sk-container-id-6 div.sk-item {position: relative;z-index: 1;}#sk-container-id-6 div.sk-parallel {display: flex;align-items: stretch;justify-content: center;background-color: white;position: relative;}#sk-container-id-6 div.sk-item::before, #sk-container-id-6 div.sk-parallel-item::before {content: \"\";position: absolute;border-left: 1px solid gray;box-sizing: border-box;top: 0;bottom: 0;left: 50%;z-index: -1;}#sk-container-id-6 div.sk-parallel-item {display: flex;flex-direction: column;z-index: 1;position: relative;background-color: white;}#sk-container-id-6 div.sk-parallel-item:first-child::after {align-self: flex-end;width: 50%;}#sk-container-id-6 div.sk-parallel-item:last-child::after {align-self: flex-start;width: 50%;}#sk-container-id-6 div.sk-parallel-item:only-child::after {width: 0;}#sk-container-id-6 div.sk-dashed-wrapped {border: 1px dashed gray;margin: 0 0.4em 0.5em 0.4em;box-sizing: border-box;padding-bottom: 0.4em;background-color: white;}#sk-container-id-6 div.sk-label label {font-family: monospace;font-weight: bold;display: inline-block;line-height: 1.2em;}#sk-container-id-6 div.sk-label-container {text-align: center;}#sk-container-id-6 div.sk-container {/* jupyter's `normalize.less` sets `[hidden] { display: none; }` but bootstrap.min.css set `[hidden] { display: none !important; }` so we also need the `!important` here to be able to override the default hidden behavior on the sphinx rendered scikit-learn.org. See: https://github.com/scikit-learn/scikit-learn/issues/21755 */display: inline-block !important;position: relative;}#sk-container-id-6 div.sk-text-repr-fallback {display: none;}</style><div id=\"sk-container-id-6\" class=\"sk-top-container\"><div class=\"sk-text-repr-fallback\"><pre>SimpleImputer(strategy=&#x27;median&#x27;)</pre><b>In a Jupyter environment, please rerun this cell to show the HTML representation or trust the notebook. <br />On GitHub, the HTML representation is unable to render, please try loading this page with nbviewer.org.</b></div><div class=\"sk-container\" hidden><div class=\"sk-item\"><div class=\"sk-estimator sk-toggleable\"><input class=\"sk-toggleable__control sk-hidden--visually\" id=\"sk-estimator-id-6\" type=\"checkbox\" checked><label for=\"sk-estimator-id-6\" class=\"sk-toggleable__label sk-toggleable__label-arrow\">SimpleImputer</label><div class=\"sk-toggleable__content\"><pre>SimpleImputer(strategy=&#x27;median&#x27;)</pre></div></div></div></div></div>"
      ],
      "text/plain": [
       "SimpleImputer(strategy='median')"
      ]
     },
     "execution_count": 389,
     "metadata": {},
     "output_type": "execute_result"
    }
   ],
   "source": [
    "imputer.fit(df)"
   ]
  },
  {
   "cell_type": "code",
   "execution_count": 390,
   "id": "8749ecdc-d525-474a-acf8-b1c0ad09b541",
   "metadata": {
    "tags": []
   },
   "outputs": [],
   "source": [
    "df = pd.DataFrame(imputer.transform(df), columns=df.columns)"
   ]
  },
  {
   "cell_type": "code",
   "execution_count": 391,
   "id": "d3c90a64-a765-4fd6-b6ac-490153ff6669",
   "metadata": {
    "tags": []
   },
   "outputs": [
    {
     "data": {
      "text/plain": [
       "SK_ID_CURR                                 0\n",
       "NAME_CONTRACT_TYPE                         0\n",
       "CNT_CHILDREN                               0\n",
       "AMT_INCOME_TOTAL                           0\n",
       "AMT_CREDIT                                 0\n",
       "AMT_ANNUITY                                0\n",
       "AMT_GOODS_PRICE                            0\n",
       "DAYS_BIRTH                                 0\n",
       "DAYS_EMPLOYED                              0\n",
       "DAYS_ID_PUBLISH                            0\n",
       "CNT_FAM_MEMBERS                            0\n",
       "REGION_RATING_CLIENT                       0\n",
       "REGION_RATING_CLIENT_W_CITY                0\n",
       "EXT_SOURCE_1                               0\n",
       "EXT_SOURCE_2                               0\n",
       "EXT_SOURCE_3                               0\n",
       "OBS_30_CNT_SOCIAL_CIRCLE                   0\n",
       "DEF_30_CNT_SOCIAL_CIRCLE                   0\n",
       "OBS_60_CNT_SOCIAL_CIRCLE                   0\n",
       "DEF_60_CNT_SOCIAL_CIRCLE                   0\n",
       "DAYS_LAST_PHONE_CHANGE                     0\n",
       "FLAG_DOCUMENT_2                            0\n",
       "FLAG_DOCUMENT_3                            0\n",
       "FLAG_DOCUMENT_4                            0\n",
       "FLAG_DOCUMENT_5                            0\n",
       "FLAG_DOCUMENT_6                            0\n",
       "FLAG_DOCUMENT_7                            0\n",
       "FLAG_DOCUMENT_8                            0\n",
       "FLAG_DOCUMENT_9                            0\n",
       "FLAG_DOCUMENT_10                           0\n",
       "FLAG_DOCUMENT_11                           0\n",
       "FLAG_DOCUMENT_12                           0\n",
       "FLAG_DOCUMENT_13                           0\n",
       "FLAG_DOCUMENT_14                           0\n",
       "FLAG_DOCUMENT_15                           0\n",
       "FLAG_DOCUMENT_16                           0\n",
       "FLAG_DOCUMENT_17                           0\n",
       "FLAG_DOCUMENT_18                           0\n",
       "FLAG_DOCUMENT_19                           0\n",
       "FLAG_DOCUMENT_20                           0\n",
       "FLAG_DOCUMENT_21                           0\n",
       "AMT_REQ_CREDIT_BUREAU_HOUR                 0\n",
       "AMT_REQ_CREDIT_BUREAU_DAY                  0\n",
       "AMT_REQ_CREDIT_BUREAU_WEEK                 0\n",
       "AMT_REQ_CREDIT_BUREAU_MON                  0\n",
       "AMT_REQ_CREDIT_BUREAU_QRT                  0\n",
       "AMT_REQ_CREDIT_BUREAU_YEAR                 0\n",
       "GENDER_F                                   0\n",
       "GENDER_M                                   0\n",
       "CAR_0                                      0\n",
       "CAR_1                                      0\n",
       "REALTY_0                                   0\n",
       "REALTY_1                                   0\n",
       "SUITE_Children                             0\n",
       "SUITE_Family                               0\n",
       "SUITE_Group of people                      0\n",
       "SUITE_Other_A                              0\n",
       "SUITE_Other_B                              0\n",
       "SUITE_Spouse, partner                      0\n",
       "SUITE_Unaccompanied                        0\n",
       "INCOME_Businessman                         0\n",
       "INCOME_Commercial associate                0\n",
       "INCOME_Pensioner                           0\n",
       "INCOME_State servant                       0\n",
       "INCOME_Student                             0\n",
       "INCOME_Unemployed                          0\n",
       "INCOME_Working                             0\n",
       "EDUCATION_Academic degree                  0\n",
       "EDUCATION_Higher education                 0\n",
       "EDUCATION_Incomplete higher                0\n",
       "EDUCATION_Lower secondary                  0\n",
       "EDUCATION_Secondary / secondary special    0\n",
       "FAMILY_Civil marriage                      0\n",
       "FAMILY_Married                             0\n",
       "FAMILY_Separated                           0\n",
       "FAMILY_Single / not married                0\n",
       "FAMILY_Widow                               0\n",
       "HOUSING_Co-op apartment                    0\n",
       "HOUSING_House / apartment                  0\n",
       "HOUSING_Municipal apartment                0\n",
       "HOUSING_Office apartment                   0\n",
       "HOUSING_Rented apartment                   0\n",
       "HOUSING_With parents                       0\n",
       "OCCUPATION_Accountants                     0\n",
       "OCCUPATION_Cleaning staff                  0\n",
       "OCCUPATION_Cooking staff                   0\n",
       "OCCUPATION_Core staff                      0\n",
       "OCCUPATION_Drivers                         0\n",
       "OCCUPATION_HR staff                        0\n",
       "OCCUPATION_High skill tech staff           0\n",
       "OCCUPATION_IT staff                        0\n",
       "OCCUPATION_Laborers                        0\n",
       "OCCUPATION_Low-skill Laborers              0\n",
       "OCCUPATION_Managers                        0\n",
       "OCCUPATION_Medicine staff                  0\n",
       "OCCUPATION_Private service staff           0\n",
       "OCCUPATION_Realty agents                   0\n",
       "OCCUPATION_Sales staff                     0\n",
       "OCCUPATION_Secretaries                     0\n",
       "OCCUPATION_Security staff                  0\n",
       "OCCUPATION_Waiters/barmen staff            0\n",
       "ORG_Advertising                            0\n",
       "ORG_Agriculture                            0\n",
       "ORG_Bank                                   0\n",
       "ORG_Business Entity Type 1                 0\n",
       "ORG_Business Entity Type 2                 0\n",
       "ORG_Business Entity Type 3                 0\n",
       "ORG_Cleaning                               0\n",
       "ORG_Construction                           0\n",
       "ORG_Culture                                0\n",
       "ORG_Electricity                            0\n",
       "ORG_Emergency                              0\n",
       "ORG_Government                             0\n",
       "ORG_Hotel                                  0\n",
       "ORG_Housing                                0\n",
       "ORG_Industry: type 1                       0\n",
       "ORG_Industry: type 10                      0\n",
       "ORG_Industry: type 11                      0\n",
       "ORG_Industry: type 12                      0\n",
       "ORG_Industry: type 13                      0\n",
       "ORG_Industry: type 2                       0\n",
       "ORG_Industry: type 3                       0\n",
       "ORG_Industry: type 4                       0\n",
       "ORG_Industry: type 5                       0\n",
       "ORG_Industry: type 6                       0\n",
       "ORG_Industry: type 7                       0\n",
       "ORG_Industry: type 8                       0\n",
       "ORG_Industry: type 9                       0\n",
       "ORG_Insurance                              0\n",
       "ORG_Kindergarten                           0\n",
       "ORG_Legal Services                         0\n",
       "ORG_Medicine                               0\n",
       "ORG_Military                               0\n",
       "ORG_Mobile                                 0\n",
       "ORG_Other                                  0\n",
       "ORG_Police                                 0\n",
       "ORG_Postal                                 0\n",
       "ORG_Realtor                                0\n",
       "ORG_Religion                               0\n",
       "ORG_Restaurant                             0\n",
       "ORG_School                                 0\n",
       "ORG_Security                               0\n",
       "ORG_Security Ministries                    0\n",
       "ORG_Self-employed                          0\n",
       "ORG_Services                               0\n",
       "ORG_Telecom                                0\n",
       "ORG_Trade: type 1                          0\n",
       "ORG_Trade: type 2                          0\n",
       "ORG_Trade: type 3                          0\n",
       "ORG_Trade: type 4                          0\n",
       "ORG_Trade: type 5                          0\n",
       "ORG_Trade: type 6                          0\n",
       "ORG_Trade: type 7                          0\n",
       "ORG_Transport: type 1                      0\n",
       "ORG_Transport: type 2                      0\n",
       "ORG_Transport: type 3                      0\n",
       "ORG_Transport: type 4                      0\n",
       "ORG_University                             0\n",
       "ORG_XNA                                    0\n",
       "TARGET                                     0\n",
       "dtype: int64"
      ]
     },
     "execution_count": 391,
     "metadata": {},
     "output_type": "execute_result"
    }
   ],
   "source": [
    "df.isnull().sum()"
   ]
  },
  {
   "cell_type": "code",
   "execution_count": 392,
   "id": "0ef9c22a-3f48-43b2-b84e-48f88773a3e3",
   "metadata": {
    "tags": []
   },
   "outputs": [
    {
     "data": {
      "text/html": [
       "<style>#sk-container-id-7 {color: black;background-color: white;}#sk-container-id-7 pre{padding: 0;}#sk-container-id-7 div.sk-toggleable {background-color: white;}#sk-container-id-7 label.sk-toggleable__label {cursor: pointer;display: block;width: 100%;margin-bottom: 0;padding: 0.3em;box-sizing: border-box;text-align: center;}#sk-container-id-7 label.sk-toggleable__label-arrow:before {content: \"▸\";float: left;margin-right: 0.25em;color: #696969;}#sk-container-id-7 label.sk-toggleable__label-arrow:hover:before {color: black;}#sk-container-id-7 div.sk-estimator:hover label.sk-toggleable__label-arrow:before {color: black;}#sk-container-id-7 div.sk-toggleable__content {max-height: 0;max-width: 0;overflow: hidden;text-align: left;background-color: #f0f8ff;}#sk-container-id-7 div.sk-toggleable__content pre {margin: 0.2em;color: black;border-radius: 0.25em;background-color: #f0f8ff;}#sk-container-id-7 input.sk-toggleable__control:checked~div.sk-toggleable__content {max-height: 200px;max-width: 100%;overflow: auto;}#sk-container-id-7 input.sk-toggleable__control:checked~label.sk-toggleable__label-arrow:before {content: \"▾\";}#sk-container-id-7 div.sk-estimator input.sk-toggleable__control:checked~label.sk-toggleable__label {background-color: #d4ebff;}#sk-container-id-7 div.sk-label input.sk-toggleable__control:checked~label.sk-toggleable__label {background-color: #d4ebff;}#sk-container-id-7 input.sk-hidden--visually {border: 0;clip: rect(1px 1px 1px 1px);clip: rect(1px, 1px, 1px, 1px);height: 1px;margin: -1px;overflow: hidden;padding: 0;position: absolute;width: 1px;}#sk-container-id-7 div.sk-estimator {font-family: monospace;background-color: #f0f8ff;border: 1px dotted black;border-radius: 0.25em;box-sizing: border-box;margin-bottom: 0.5em;}#sk-container-id-7 div.sk-estimator:hover {background-color: #d4ebff;}#sk-container-id-7 div.sk-parallel-item::after {content: \"\";width: 100%;border-bottom: 1px solid gray;flex-grow: 1;}#sk-container-id-7 div.sk-label:hover label.sk-toggleable__label {background-color: #d4ebff;}#sk-container-id-7 div.sk-serial::before {content: \"\";position: absolute;border-left: 1px solid gray;box-sizing: border-box;top: 0;bottom: 0;left: 50%;z-index: 0;}#sk-container-id-7 div.sk-serial {display: flex;flex-direction: column;align-items: center;background-color: white;padding-right: 0.2em;padding-left: 0.2em;position: relative;}#sk-container-id-7 div.sk-item {position: relative;z-index: 1;}#sk-container-id-7 div.sk-parallel {display: flex;align-items: stretch;justify-content: center;background-color: white;position: relative;}#sk-container-id-7 div.sk-item::before, #sk-container-id-7 div.sk-parallel-item::before {content: \"\";position: absolute;border-left: 1px solid gray;box-sizing: border-box;top: 0;bottom: 0;left: 50%;z-index: -1;}#sk-container-id-7 div.sk-parallel-item {display: flex;flex-direction: column;z-index: 1;position: relative;background-color: white;}#sk-container-id-7 div.sk-parallel-item:first-child::after {align-self: flex-end;width: 50%;}#sk-container-id-7 div.sk-parallel-item:last-child::after {align-self: flex-start;width: 50%;}#sk-container-id-7 div.sk-parallel-item:only-child::after {width: 0;}#sk-container-id-7 div.sk-dashed-wrapped {border: 1px dashed gray;margin: 0 0.4em 0.5em 0.4em;box-sizing: border-box;padding-bottom: 0.4em;background-color: white;}#sk-container-id-7 div.sk-label label {font-family: monospace;font-weight: bold;display: inline-block;line-height: 1.2em;}#sk-container-id-7 div.sk-label-container {text-align: center;}#sk-container-id-7 div.sk-container {/* jupyter's `normalize.less` sets `[hidden] { display: none; }` but bootstrap.min.css set `[hidden] { display: none !important; }` so we also need the `!important` here to be able to override the default hidden behavior on the sphinx rendered scikit-learn.org. See: https://github.com/scikit-learn/scikit-learn/issues/21755 */display: inline-block !important;position: relative;}#sk-container-id-7 div.sk-text-repr-fallback {display: none;}</style><div id=\"sk-container-id-7\" class=\"sk-top-container\"><div class=\"sk-text-repr-fallback\"><pre>SimpleImputer(strategy=&#x27;median&#x27;)</pre><b>In a Jupyter environment, please rerun this cell to show the HTML representation or trust the notebook. <br />On GitHub, the HTML representation is unable to render, please try loading this page with nbviewer.org.</b></div><div class=\"sk-container\" hidden><div class=\"sk-item\"><div class=\"sk-estimator sk-toggleable\"><input class=\"sk-toggleable__control sk-hidden--visually\" id=\"sk-estimator-id-7\" type=\"checkbox\" checked><label for=\"sk-estimator-id-7\" class=\"sk-toggleable__label sk-toggleable__label-arrow\">SimpleImputer</label><div class=\"sk-toggleable__content\"><pre>SimpleImputer(strategy=&#x27;median&#x27;)</pre></div></div></div></div></div>"
      ],
      "text/plain": [
       "SimpleImputer(strategy='median')"
      ]
     },
     "execution_count": 392,
     "metadata": {},
     "output_type": "execute_result"
    }
   ],
   "source": [
    "imputer.fit(test)"
   ]
  },
  {
   "cell_type": "code",
   "execution_count": 393,
   "id": "e0b070b9-7b59-4659-8805-6017c25bbf29",
   "metadata": {
    "tags": []
   },
   "outputs": [],
   "source": [
    "test = pd.DataFrame(imputer.transform(test), columns=test.columns)"
   ]
  },
  {
   "cell_type": "code",
   "execution_count": 394,
   "id": "28beeaf3-d6ba-4a15-838d-ef3b1604f045",
   "metadata": {
    "tags": []
   },
   "outputs": [
    {
     "data": {
      "text/plain": [
       "SK_ID_CURR                                 0\n",
       "NAME_CONTRACT_TYPE                         0\n",
       "CNT_CHILDREN                               0\n",
       "AMT_INCOME_TOTAL                           0\n",
       "AMT_CREDIT                                 0\n",
       "AMT_ANNUITY                                0\n",
       "AMT_GOODS_PRICE                            0\n",
       "DAYS_BIRTH                                 0\n",
       "DAYS_EMPLOYED                              0\n",
       "DAYS_ID_PUBLISH                            0\n",
       "CNT_FAM_MEMBERS                            0\n",
       "REGION_RATING_CLIENT                       0\n",
       "REGION_RATING_CLIENT_W_CITY                0\n",
       "EXT_SOURCE_1                               0\n",
       "EXT_SOURCE_2                               0\n",
       "EXT_SOURCE_3                               0\n",
       "OBS_30_CNT_SOCIAL_CIRCLE                   0\n",
       "DEF_30_CNT_SOCIAL_CIRCLE                   0\n",
       "OBS_60_CNT_SOCIAL_CIRCLE                   0\n",
       "DEF_60_CNT_SOCIAL_CIRCLE                   0\n",
       "DAYS_LAST_PHONE_CHANGE                     0\n",
       "FLAG_DOCUMENT_2                            0\n",
       "FLAG_DOCUMENT_3                            0\n",
       "FLAG_DOCUMENT_4                            0\n",
       "FLAG_DOCUMENT_5                            0\n",
       "FLAG_DOCUMENT_6                            0\n",
       "FLAG_DOCUMENT_7                            0\n",
       "FLAG_DOCUMENT_8                            0\n",
       "FLAG_DOCUMENT_9                            0\n",
       "FLAG_DOCUMENT_10                           0\n",
       "FLAG_DOCUMENT_11                           0\n",
       "FLAG_DOCUMENT_12                           0\n",
       "FLAG_DOCUMENT_13                           0\n",
       "FLAG_DOCUMENT_14                           0\n",
       "FLAG_DOCUMENT_15                           0\n",
       "FLAG_DOCUMENT_16                           0\n",
       "FLAG_DOCUMENT_17                           0\n",
       "FLAG_DOCUMENT_18                           0\n",
       "FLAG_DOCUMENT_19                           0\n",
       "FLAG_DOCUMENT_20                           0\n",
       "FLAG_DOCUMENT_21                           0\n",
       "AMT_REQ_CREDIT_BUREAU_HOUR                 0\n",
       "AMT_REQ_CREDIT_BUREAU_DAY                  0\n",
       "AMT_REQ_CREDIT_BUREAU_WEEK                 0\n",
       "AMT_REQ_CREDIT_BUREAU_MON                  0\n",
       "AMT_REQ_CREDIT_BUREAU_QRT                  0\n",
       "AMT_REQ_CREDIT_BUREAU_YEAR                 0\n",
       "GENDER_F                                   0\n",
       "GENDER_M                                   0\n",
       "CAR_0                                      0\n",
       "CAR_1                                      0\n",
       "REALTY_0                                   0\n",
       "REALTY_1                                   0\n",
       "SUITE_Children                             0\n",
       "SUITE_Family                               0\n",
       "SUITE_Group of people                      0\n",
       "SUITE_Other_A                              0\n",
       "SUITE_Other_B                              0\n",
       "SUITE_Spouse, partner                      0\n",
       "SUITE_Unaccompanied                        0\n",
       "INCOME_Businessman                         0\n",
       "INCOME_Commercial associate                0\n",
       "INCOME_Pensioner                           0\n",
       "INCOME_State servant                       0\n",
       "INCOME_Student                             0\n",
       "INCOME_Unemployed                          0\n",
       "INCOME_Working                             0\n",
       "EDUCATION_Academic degree                  0\n",
       "EDUCATION_Higher education                 0\n",
       "EDUCATION_Incomplete higher                0\n",
       "EDUCATION_Lower secondary                  0\n",
       "EDUCATION_Secondary / secondary special    0\n",
       "FAMILY_Civil marriage                      0\n",
       "FAMILY_Married                             0\n",
       "FAMILY_Separated                           0\n",
       "FAMILY_Single / not married                0\n",
       "FAMILY_Widow                               0\n",
       "HOUSING_Co-op apartment                    0\n",
       "HOUSING_House / apartment                  0\n",
       "HOUSING_Municipal apartment                0\n",
       "HOUSING_Office apartment                   0\n",
       "HOUSING_Rented apartment                   0\n",
       "HOUSING_With parents                       0\n",
       "OCCUPATION_Accountants                     0\n",
       "OCCUPATION_Cleaning staff                  0\n",
       "OCCUPATION_Cooking staff                   0\n",
       "OCCUPATION_Core staff                      0\n",
       "OCCUPATION_Drivers                         0\n",
       "OCCUPATION_HR staff                        0\n",
       "OCCUPATION_High skill tech staff           0\n",
       "OCCUPATION_IT staff                        0\n",
       "OCCUPATION_Laborers                        0\n",
       "OCCUPATION_Low-skill Laborers              0\n",
       "OCCUPATION_Managers                        0\n",
       "OCCUPATION_Medicine staff                  0\n",
       "OCCUPATION_Private service staff           0\n",
       "OCCUPATION_Realty agents                   0\n",
       "OCCUPATION_Sales staff                     0\n",
       "OCCUPATION_Secretaries                     0\n",
       "OCCUPATION_Security staff                  0\n",
       "OCCUPATION_Waiters/barmen staff            0\n",
       "ORG_Advertising                            0\n",
       "ORG_Agriculture                            0\n",
       "ORG_Bank                                   0\n",
       "ORG_Business Entity Type 1                 0\n",
       "ORG_Business Entity Type 2                 0\n",
       "ORG_Business Entity Type 3                 0\n",
       "ORG_Cleaning                               0\n",
       "ORG_Construction                           0\n",
       "ORG_Culture                                0\n",
       "ORG_Electricity                            0\n",
       "ORG_Emergency                              0\n",
       "ORG_Government                             0\n",
       "ORG_Hotel                                  0\n",
       "ORG_Housing                                0\n",
       "ORG_Industry: type 1                       0\n",
       "ORG_Industry: type 10                      0\n",
       "ORG_Industry: type 11                      0\n",
       "ORG_Industry: type 12                      0\n",
       "ORG_Industry: type 13                      0\n",
       "ORG_Industry: type 2                       0\n",
       "ORG_Industry: type 3                       0\n",
       "ORG_Industry: type 4                       0\n",
       "ORG_Industry: type 5                       0\n",
       "ORG_Industry: type 6                       0\n",
       "ORG_Industry: type 7                       0\n",
       "ORG_Industry: type 8                       0\n",
       "ORG_Industry: type 9                       0\n",
       "ORG_Insurance                              0\n",
       "ORG_Kindergarten                           0\n",
       "ORG_Legal Services                         0\n",
       "ORG_Medicine                               0\n",
       "ORG_Military                               0\n",
       "ORG_Mobile                                 0\n",
       "ORG_Other                                  0\n",
       "ORG_Police                                 0\n",
       "ORG_Postal                                 0\n",
       "ORG_Realtor                                0\n",
       "ORG_Religion                               0\n",
       "ORG_Restaurant                             0\n",
       "ORG_School                                 0\n",
       "ORG_Security                               0\n",
       "ORG_Security Ministries                    0\n",
       "ORG_Self-employed                          0\n",
       "ORG_Services                               0\n",
       "ORG_Telecom                                0\n",
       "ORG_Trade: type 1                          0\n",
       "ORG_Trade: type 2                          0\n",
       "ORG_Trade: type 3                          0\n",
       "ORG_Trade: type 4                          0\n",
       "ORG_Trade: type 5                          0\n",
       "ORG_Trade: type 6                          0\n",
       "ORG_Trade: type 7                          0\n",
       "ORG_Transport: type 1                      0\n",
       "ORG_Transport: type 2                      0\n",
       "ORG_Transport: type 3                      0\n",
       "ORG_Transport: type 4                      0\n",
       "ORG_University                             0\n",
       "ORG_XNA                                    0\n",
       "dtype: int64"
      ]
     },
     "execution_count": 394,
     "metadata": {},
     "output_type": "execute_result"
    }
   ],
   "source": [
    "test.isnull().sum()"
   ]
  },
  {
   "cell_type": "markdown",
   "id": "bb9a12ef-bf7b-4130-b23b-44077689e44f",
   "metadata": {},
   "source": [
    "### Feature scaling"
   ]
  },
  {
   "cell_type": "code",
   "execution_count": 396,
   "id": "bfb31fd0-3a63-4adf-86ed-6021f12d6e79",
   "metadata": {
    "tags": []
   },
   "outputs": [],
   "source": [
    "from sklearn.preprocessing import MinMaxScaler, StandardScaler"
   ]
  },
  {
   "cell_type": "code",
   "execution_count": 397,
   "id": "7271c02f-f593-469e-ae10-da91306dc476",
   "metadata": {
    "tags": []
   },
   "outputs": [],
   "source": [
    "scaler = StandardScaler()"
   ]
  },
  {
   "cell_type": "code",
   "execution_count": 398,
   "id": "5a2aafef-bc02-4815-817e-ca75246951bc",
   "metadata": {
    "tags": []
   },
   "outputs": [],
   "source": [
    "train_label = df['TARGET']"
   ]
  },
  {
   "cell_type": "code",
   "execution_count": 447,
   "id": "1ac7b362-8b60-4d1d-99fc-51072597543a",
   "metadata": {
    "tags": []
   },
   "outputs": [],
   "source": [
    "df = df.drop(columns=['TARGET'])"
   ]
  },
  {
   "cell_type": "code",
   "execution_count": 449,
   "id": "19a03d9e-5efb-471b-9fc8-7ca348584470",
   "metadata": {
    "tags": []
   },
   "outputs": [],
   "source": [
    "df = pd.DataFrame(scaler.fit_transform(df), columns=df.columns)"
   ]
  },
  {
   "cell_type": "code",
   "execution_count": 451,
   "id": "136bd9fe-9829-4a19-bfce-c43e050e636d",
   "metadata": {
    "tags": []
   },
   "outputs": [],
   "source": [
    "df['TARGET'] = train_label"
   ]
  },
  {
   "cell_type": "code",
   "execution_count": 453,
   "id": "d391774e-2d0c-44cf-8f44-410163427689",
   "metadata": {
    "tags": []
   },
   "outputs": [],
   "source": [
    "test = pd.DataFrame(scaler.fit_transform(test), columns=test.columns)"
   ]
  },
  {
   "cell_type": "markdown",
   "id": "a081996a-4972-4fcb-b5d5-4416ccdf7b65",
   "metadata": {},
   "source": [
    "### Imbalance Resampling"
   ]
  },
  {
   "cell_type": "code",
   "execution_count": 455,
   "id": "d998ff8d-1ee3-460e-8d3b-df6518b1f529",
   "metadata": {
    "tags": []
   },
   "outputs": [],
   "source": [
    "X_train = df.drop(columns=['TARGET'])\n",
    "y_train = df['TARGET']"
   ]
  },
  {
   "cell_type": "code",
   "execution_count": 457,
   "id": "18ea1600-a27e-4cab-a57b-d98b0a303c30",
   "metadata": {
    "tags": []
   },
   "outputs": [
    {
     "data": {
      "text/plain": [
       "TARGET\n",
       "0.0    282686\n",
       "1.0     24825\n",
       "Name: count, dtype: int64"
      ]
     },
     "execution_count": 457,
     "metadata": {},
     "output_type": "execute_result"
    }
   ],
   "source": [
    "# before resampling\n",
    "y_train.value_counts()"
   ]
  },
  {
   "cell_type": "code",
   "execution_count": 461,
   "id": "9ac3a7bf-bd63-4476-94ef-c6f6979080d1",
   "metadata": {
    "tags": []
   },
   "outputs": [],
   "source": [
    "from imblearn.over_sampling import SMOTE"
   ]
  },
  {
   "cell_type": "code",
   "execution_count": 464,
   "id": "57754841-e0fd-422c-b87d-01df05d8a52e",
   "metadata": {
    "tags": []
   },
   "outputs": [],
   "source": [
    "smote = SMOTE()\n",
    "X_train, y_train = smote.fit_resample(X_train, y_train)"
   ]
  },
  {
   "cell_type": "code",
   "execution_count": 466,
   "id": "e808ac69-0aa5-40b4-a9c4-7d4f6e8dcbf7",
   "metadata": {
    "tags": []
   },
   "outputs": [
    {
     "data": {
      "text/plain": [
       "TARGET\n",
       "1.0    282686\n",
       "0.0    282686\n",
       "Name: count, dtype: int64"
      ]
     },
     "execution_count": 466,
     "metadata": {},
     "output_type": "execute_result"
    }
   ],
   "source": [
    "# after resampling\n",
    "y_train.value_counts()"
   ]
  },
  {
   "cell_type": "markdown",
   "id": "69f38698-e8f3-47ba-9ac0-142f17494114",
   "metadata": {
    "tags": []
   },
   "source": [
    "## Training"
   ]
  },
  {
   "cell_type": "code",
   "execution_count": 472,
   "id": "dc02f172-5248-4958-a884-16144c800092",
   "metadata": {
    "tags": []
   },
   "outputs": [],
   "source": [
    "from sklearn.linear_model import LogisticRegression\n",
    "from sklearn.ensemble import RandomForestClassifier\n",
    "from sklearn.tree import DecisionTreeClassifier"
   ]
  },
  {
   "cell_type": "code",
   "execution_count": 476,
   "id": "e2bf4a82-c0d1-45fb-8089-29f8e56acb1c",
   "metadata": {
    "tags": []
   },
   "outputs": [
    {
     "data": {
      "text/html": [
       "<style>#sk-container-id-8 {color: black;background-color: white;}#sk-container-id-8 pre{padding: 0;}#sk-container-id-8 div.sk-toggleable {background-color: white;}#sk-container-id-8 label.sk-toggleable__label {cursor: pointer;display: block;width: 100%;margin-bottom: 0;padding: 0.3em;box-sizing: border-box;text-align: center;}#sk-container-id-8 label.sk-toggleable__label-arrow:before {content: \"▸\";float: left;margin-right: 0.25em;color: #696969;}#sk-container-id-8 label.sk-toggleable__label-arrow:hover:before {color: black;}#sk-container-id-8 div.sk-estimator:hover label.sk-toggleable__label-arrow:before {color: black;}#sk-container-id-8 div.sk-toggleable__content {max-height: 0;max-width: 0;overflow: hidden;text-align: left;background-color: #f0f8ff;}#sk-container-id-8 div.sk-toggleable__content pre {margin: 0.2em;color: black;border-radius: 0.25em;background-color: #f0f8ff;}#sk-container-id-8 input.sk-toggleable__control:checked~div.sk-toggleable__content {max-height: 200px;max-width: 100%;overflow: auto;}#sk-container-id-8 input.sk-toggleable__control:checked~label.sk-toggleable__label-arrow:before {content: \"▾\";}#sk-container-id-8 div.sk-estimator input.sk-toggleable__control:checked~label.sk-toggleable__label {background-color: #d4ebff;}#sk-container-id-8 div.sk-label input.sk-toggleable__control:checked~label.sk-toggleable__label {background-color: #d4ebff;}#sk-container-id-8 input.sk-hidden--visually {border: 0;clip: rect(1px 1px 1px 1px);clip: rect(1px, 1px, 1px, 1px);height: 1px;margin: -1px;overflow: hidden;padding: 0;position: absolute;width: 1px;}#sk-container-id-8 div.sk-estimator {font-family: monospace;background-color: #f0f8ff;border: 1px dotted black;border-radius: 0.25em;box-sizing: border-box;margin-bottom: 0.5em;}#sk-container-id-8 div.sk-estimator:hover {background-color: #d4ebff;}#sk-container-id-8 div.sk-parallel-item::after {content: \"\";width: 100%;border-bottom: 1px solid gray;flex-grow: 1;}#sk-container-id-8 div.sk-label:hover label.sk-toggleable__label {background-color: #d4ebff;}#sk-container-id-8 div.sk-serial::before {content: \"\";position: absolute;border-left: 1px solid gray;box-sizing: border-box;top: 0;bottom: 0;left: 50%;z-index: 0;}#sk-container-id-8 div.sk-serial {display: flex;flex-direction: column;align-items: center;background-color: white;padding-right: 0.2em;padding-left: 0.2em;position: relative;}#sk-container-id-8 div.sk-item {position: relative;z-index: 1;}#sk-container-id-8 div.sk-parallel {display: flex;align-items: stretch;justify-content: center;background-color: white;position: relative;}#sk-container-id-8 div.sk-item::before, #sk-container-id-8 div.sk-parallel-item::before {content: \"\";position: absolute;border-left: 1px solid gray;box-sizing: border-box;top: 0;bottom: 0;left: 50%;z-index: -1;}#sk-container-id-8 div.sk-parallel-item {display: flex;flex-direction: column;z-index: 1;position: relative;background-color: white;}#sk-container-id-8 div.sk-parallel-item:first-child::after {align-self: flex-end;width: 50%;}#sk-container-id-8 div.sk-parallel-item:last-child::after {align-self: flex-start;width: 50%;}#sk-container-id-8 div.sk-parallel-item:only-child::after {width: 0;}#sk-container-id-8 div.sk-dashed-wrapped {border: 1px dashed gray;margin: 0 0.4em 0.5em 0.4em;box-sizing: border-box;padding-bottom: 0.4em;background-color: white;}#sk-container-id-8 div.sk-label label {font-family: monospace;font-weight: bold;display: inline-block;line-height: 1.2em;}#sk-container-id-8 div.sk-label-container {text-align: center;}#sk-container-id-8 div.sk-container {/* jupyter's `normalize.less` sets `[hidden] { display: none; }` but bootstrap.min.css set `[hidden] { display: none !important; }` so we also need the `!important` here to be able to override the default hidden behavior on the sphinx rendered scikit-learn.org. See: https://github.com/scikit-learn/scikit-learn/issues/21755 */display: inline-block !important;position: relative;}#sk-container-id-8 div.sk-text-repr-fallback {display: none;}</style><div id=\"sk-container-id-8\" class=\"sk-top-container\"><div class=\"sk-text-repr-fallback\"><pre>LogisticRegression(max_iter=400)</pre><b>In a Jupyter environment, please rerun this cell to show the HTML representation or trust the notebook. <br />On GitHub, the HTML representation is unable to render, please try loading this page with nbviewer.org.</b></div><div class=\"sk-container\" hidden><div class=\"sk-item\"><div class=\"sk-estimator sk-toggleable\"><input class=\"sk-toggleable__control sk-hidden--visually\" id=\"sk-estimator-id-8\" type=\"checkbox\" checked><label for=\"sk-estimator-id-8\" class=\"sk-toggleable__label sk-toggleable__label-arrow\">LogisticRegression</label><div class=\"sk-toggleable__content\"><pre>LogisticRegression(max_iter=400)</pre></div></div></div></div></div>"
      ],
      "text/plain": [
       "LogisticRegression(max_iter=400)"
      ]
     },
     "execution_count": 476,
     "metadata": {},
     "output_type": "execute_result"
    }
   ],
   "source": [
    "lr = LogisticRegression(max_iter=400)\n",
    "lr.fit(X_train, y_train)"
   ]
  },
  {
   "cell_type": "code",
   "execution_count": 479,
   "id": "27ffbdc1-eea9-4310-9aa0-020df7d576ba",
   "metadata": {
    "tags": []
   },
   "outputs": [
    {
     "data": {
      "text/html": [
       "<style>#sk-container-id-9 {color: black;background-color: white;}#sk-container-id-9 pre{padding: 0;}#sk-container-id-9 div.sk-toggleable {background-color: white;}#sk-container-id-9 label.sk-toggleable__label {cursor: pointer;display: block;width: 100%;margin-bottom: 0;padding: 0.3em;box-sizing: border-box;text-align: center;}#sk-container-id-9 label.sk-toggleable__label-arrow:before {content: \"▸\";float: left;margin-right: 0.25em;color: #696969;}#sk-container-id-9 label.sk-toggleable__label-arrow:hover:before {color: black;}#sk-container-id-9 div.sk-estimator:hover label.sk-toggleable__label-arrow:before {color: black;}#sk-container-id-9 div.sk-toggleable__content {max-height: 0;max-width: 0;overflow: hidden;text-align: left;background-color: #f0f8ff;}#sk-container-id-9 div.sk-toggleable__content pre {margin: 0.2em;color: black;border-radius: 0.25em;background-color: #f0f8ff;}#sk-container-id-9 input.sk-toggleable__control:checked~div.sk-toggleable__content {max-height: 200px;max-width: 100%;overflow: auto;}#sk-container-id-9 input.sk-toggleable__control:checked~label.sk-toggleable__label-arrow:before {content: \"▾\";}#sk-container-id-9 div.sk-estimator input.sk-toggleable__control:checked~label.sk-toggleable__label {background-color: #d4ebff;}#sk-container-id-9 div.sk-label input.sk-toggleable__control:checked~label.sk-toggleable__label {background-color: #d4ebff;}#sk-container-id-9 input.sk-hidden--visually {border: 0;clip: rect(1px 1px 1px 1px);clip: rect(1px, 1px, 1px, 1px);height: 1px;margin: -1px;overflow: hidden;padding: 0;position: absolute;width: 1px;}#sk-container-id-9 div.sk-estimator {font-family: monospace;background-color: #f0f8ff;border: 1px dotted black;border-radius: 0.25em;box-sizing: border-box;margin-bottom: 0.5em;}#sk-container-id-9 div.sk-estimator:hover {background-color: #d4ebff;}#sk-container-id-9 div.sk-parallel-item::after {content: \"\";width: 100%;border-bottom: 1px solid gray;flex-grow: 1;}#sk-container-id-9 div.sk-label:hover label.sk-toggleable__label {background-color: #d4ebff;}#sk-container-id-9 div.sk-serial::before {content: \"\";position: absolute;border-left: 1px solid gray;box-sizing: border-box;top: 0;bottom: 0;left: 50%;z-index: 0;}#sk-container-id-9 div.sk-serial {display: flex;flex-direction: column;align-items: center;background-color: white;padding-right: 0.2em;padding-left: 0.2em;position: relative;}#sk-container-id-9 div.sk-item {position: relative;z-index: 1;}#sk-container-id-9 div.sk-parallel {display: flex;align-items: stretch;justify-content: center;background-color: white;position: relative;}#sk-container-id-9 div.sk-item::before, #sk-container-id-9 div.sk-parallel-item::before {content: \"\";position: absolute;border-left: 1px solid gray;box-sizing: border-box;top: 0;bottom: 0;left: 50%;z-index: -1;}#sk-container-id-9 div.sk-parallel-item {display: flex;flex-direction: column;z-index: 1;position: relative;background-color: white;}#sk-container-id-9 div.sk-parallel-item:first-child::after {align-self: flex-end;width: 50%;}#sk-container-id-9 div.sk-parallel-item:last-child::after {align-self: flex-start;width: 50%;}#sk-container-id-9 div.sk-parallel-item:only-child::after {width: 0;}#sk-container-id-9 div.sk-dashed-wrapped {border: 1px dashed gray;margin: 0 0.4em 0.5em 0.4em;box-sizing: border-box;padding-bottom: 0.4em;background-color: white;}#sk-container-id-9 div.sk-label label {font-family: monospace;font-weight: bold;display: inline-block;line-height: 1.2em;}#sk-container-id-9 div.sk-label-container {text-align: center;}#sk-container-id-9 div.sk-container {/* jupyter's `normalize.less` sets `[hidden] { display: none; }` but bootstrap.min.css set `[hidden] { display: none !important; }` so we also need the `!important` here to be able to override the default hidden behavior on the sphinx rendered scikit-learn.org. See: https://github.com/scikit-learn/scikit-learn/issues/21755 */display: inline-block !important;position: relative;}#sk-container-id-9 div.sk-text-repr-fallback {display: none;}</style><div id=\"sk-container-id-9\" class=\"sk-top-container\"><div class=\"sk-text-repr-fallback\"><pre>DecisionTreeClassifier()</pre><b>In a Jupyter environment, please rerun this cell to show the HTML representation or trust the notebook. <br />On GitHub, the HTML representation is unable to render, please try loading this page with nbviewer.org.</b></div><div class=\"sk-container\" hidden><div class=\"sk-item\"><div class=\"sk-estimator sk-toggleable\"><input class=\"sk-toggleable__control sk-hidden--visually\" id=\"sk-estimator-id-9\" type=\"checkbox\" checked><label for=\"sk-estimator-id-9\" class=\"sk-toggleable__label sk-toggleable__label-arrow\">DecisionTreeClassifier</label><div class=\"sk-toggleable__content\"><pre>DecisionTreeClassifier()</pre></div></div></div></div></div>"
      ],
      "text/plain": [
       "DecisionTreeClassifier()"
      ]
     },
     "execution_count": 479,
     "metadata": {},
     "output_type": "execute_result"
    }
   ],
   "source": [
    "dt = DecisionTreeClassifier()\n",
    "dt.fit(X_train, y_train)"
   ]
  },
  {
   "cell_type": "code",
   "execution_count": 482,
   "id": "da57ecb9-26ba-466a-aedd-9be874a78c1b",
   "metadata": {
    "tags": []
   },
   "outputs": [
    {
     "data": {
      "text/html": [
       "<style>#sk-container-id-10 {color: black;background-color: white;}#sk-container-id-10 pre{padding: 0;}#sk-container-id-10 div.sk-toggleable {background-color: white;}#sk-container-id-10 label.sk-toggleable__label {cursor: pointer;display: block;width: 100%;margin-bottom: 0;padding: 0.3em;box-sizing: border-box;text-align: center;}#sk-container-id-10 label.sk-toggleable__label-arrow:before {content: \"▸\";float: left;margin-right: 0.25em;color: #696969;}#sk-container-id-10 label.sk-toggleable__label-arrow:hover:before {color: black;}#sk-container-id-10 div.sk-estimator:hover label.sk-toggleable__label-arrow:before {color: black;}#sk-container-id-10 div.sk-toggleable__content {max-height: 0;max-width: 0;overflow: hidden;text-align: left;background-color: #f0f8ff;}#sk-container-id-10 div.sk-toggleable__content pre {margin: 0.2em;color: black;border-radius: 0.25em;background-color: #f0f8ff;}#sk-container-id-10 input.sk-toggleable__control:checked~div.sk-toggleable__content {max-height: 200px;max-width: 100%;overflow: auto;}#sk-container-id-10 input.sk-toggleable__control:checked~label.sk-toggleable__label-arrow:before {content: \"▾\";}#sk-container-id-10 div.sk-estimator input.sk-toggleable__control:checked~label.sk-toggleable__label {background-color: #d4ebff;}#sk-container-id-10 div.sk-label input.sk-toggleable__control:checked~label.sk-toggleable__label {background-color: #d4ebff;}#sk-container-id-10 input.sk-hidden--visually {border: 0;clip: rect(1px 1px 1px 1px);clip: rect(1px, 1px, 1px, 1px);height: 1px;margin: -1px;overflow: hidden;padding: 0;position: absolute;width: 1px;}#sk-container-id-10 div.sk-estimator {font-family: monospace;background-color: #f0f8ff;border: 1px dotted black;border-radius: 0.25em;box-sizing: border-box;margin-bottom: 0.5em;}#sk-container-id-10 div.sk-estimator:hover {background-color: #d4ebff;}#sk-container-id-10 div.sk-parallel-item::after {content: \"\";width: 100%;border-bottom: 1px solid gray;flex-grow: 1;}#sk-container-id-10 div.sk-label:hover label.sk-toggleable__label {background-color: #d4ebff;}#sk-container-id-10 div.sk-serial::before {content: \"\";position: absolute;border-left: 1px solid gray;box-sizing: border-box;top: 0;bottom: 0;left: 50%;z-index: 0;}#sk-container-id-10 div.sk-serial {display: flex;flex-direction: column;align-items: center;background-color: white;padding-right: 0.2em;padding-left: 0.2em;position: relative;}#sk-container-id-10 div.sk-item {position: relative;z-index: 1;}#sk-container-id-10 div.sk-parallel {display: flex;align-items: stretch;justify-content: center;background-color: white;position: relative;}#sk-container-id-10 div.sk-item::before, #sk-container-id-10 div.sk-parallel-item::before {content: \"\";position: absolute;border-left: 1px solid gray;box-sizing: border-box;top: 0;bottom: 0;left: 50%;z-index: -1;}#sk-container-id-10 div.sk-parallel-item {display: flex;flex-direction: column;z-index: 1;position: relative;background-color: white;}#sk-container-id-10 div.sk-parallel-item:first-child::after {align-self: flex-end;width: 50%;}#sk-container-id-10 div.sk-parallel-item:last-child::after {align-self: flex-start;width: 50%;}#sk-container-id-10 div.sk-parallel-item:only-child::after {width: 0;}#sk-container-id-10 div.sk-dashed-wrapped {border: 1px dashed gray;margin: 0 0.4em 0.5em 0.4em;box-sizing: border-box;padding-bottom: 0.4em;background-color: white;}#sk-container-id-10 div.sk-label label {font-family: monospace;font-weight: bold;display: inline-block;line-height: 1.2em;}#sk-container-id-10 div.sk-label-container {text-align: center;}#sk-container-id-10 div.sk-container {/* jupyter's `normalize.less` sets `[hidden] { display: none; }` but bootstrap.min.css set `[hidden] { display: none !important; }` so we also need the `!important` here to be able to override the default hidden behavior on the sphinx rendered scikit-learn.org. See: https://github.com/scikit-learn/scikit-learn/issues/21755 */display: inline-block !important;position: relative;}#sk-container-id-10 div.sk-text-repr-fallback {display: none;}</style><div id=\"sk-container-id-10\" class=\"sk-top-container\"><div class=\"sk-text-repr-fallback\"><pre>RandomForestClassifier()</pre><b>In a Jupyter environment, please rerun this cell to show the HTML representation or trust the notebook. <br />On GitHub, the HTML representation is unable to render, please try loading this page with nbviewer.org.</b></div><div class=\"sk-container\" hidden><div class=\"sk-item\"><div class=\"sk-estimator sk-toggleable\"><input class=\"sk-toggleable__control sk-hidden--visually\" id=\"sk-estimator-id-10\" type=\"checkbox\" checked><label for=\"sk-estimator-id-10\" class=\"sk-toggleable__label sk-toggleable__label-arrow\">RandomForestClassifier</label><div class=\"sk-toggleable__content\"><pre>RandomForestClassifier()</pre></div></div></div></div></div>"
      ],
      "text/plain": [
       "RandomForestClassifier()"
      ]
     },
     "execution_count": 482,
     "metadata": {},
     "output_type": "execute_result"
    }
   ],
   "source": [
    "rf = RandomForestClassifier()\n",
    "rf.fit(X_train, y_train)"
   ]
  },
  {
   "cell_type": "markdown",
   "id": "2a4855fc-4c5f-4c99-97ce-d91df789fd8e",
   "metadata": {
    "tags": []
   },
   "source": [
    "## Testing"
   ]
  },
  {
   "cell_type": "code",
   "execution_count": 485,
   "id": "6979a80b-07aa-44f9-ad2d-e790b804427b",
   "metadata": {
    "tags": []
   },
   "outputs": [],
   "source": [
    "from sklearn.metrics import accuracy_score, precision_score, recall_score, f1_score, roc_auc_score, roc_curve\n",
    "from sklearn.model_selection import cross_validate"
   ]
  },
  {
   "cell_type": "code",
   "execution_count": 504,
   "id": "a5e6476d-f5ee-4139-b7bb-c284655dac0c",
   "metadata": {
    "tags": []
   },
   "outputs": [],
   "source": [
    "def eval_classification(model):\n",
    "    y_pred_train = model.predict(X_train)\n",
    "    y_pred = model.predict(test)\n",
    "    y_pred_proba_train = model.predict_proba(X_train)\n",
    "    y_pred_proba = model.predict_proba(test)\n",
    "\n",
    "    # Generate predicted probabilities of positive class for training and test sets\n",
    "    train_probabilities = model.predict_proba(X_train)[:, 1]\n",
    "\n",
    "    print(f\"{model}\")\n",
    "    print(\"AUC (Train): %.4f\" % roc_auc_score(y_train, y_pred_proba_train[:, 1]))"
   ]
  },
  {
   "cell_type": "code",
   "execution_count": 506,
   "id": "08bc4557-8282-424e-9518-31192e86b424",
   "metadata": {
    "tags": []
   },
   "outputs": [
    {
     "name": "stdout",
     "output_type": "stream",
     "text": [
      "LogisticRegression(max_iter=400)\n",
      "AUC (Train): 0.7674\n"
     ]
    }
   ],
   "source": [
    "eval_classification(lr)"
   ]
  },
  {
   "cell_type": "code",
   "execution_count": 523,
   "id": "9461ed60-82b5-4f1b-899d-75ee58ff8be0",
   "metadata": {
    "tags": []
   },
   "outputs": [],
   "source": [
    "from sklearn.model_selection import RandomizedSearchCV"
   ]
  },
  {
   "cell_type": "code",
   "execution_count": 532,
   "id": "6fafc163-cda6-4de9-85ca-25c40a53db9a",
   "metadata": {
    "tags": []
   },
   "outputs": [
    {
     "name": "stderr",
     "output_type": "stream",
     "text": [
      "C:\\Users\\athiy\\anaconda3\\lib\\site-packages\\sklearn\\model_selection\\_search.py:305: UserWarning: The total space of parameters 1 is smaller than n_iter=5. Running 1 iterations. For exhaustive searches, use GridSearchCV.\n",
      "  warnings.warn(\n"
     ]
    },
    {
     "name": "stdout",
     "output_type": "stream",
     "text": [
      "RandomizedSearchCV(cv=2, estimator=LogisticRegression(max_iter=400), n_iter=5,\n",
      "                   param_distributions={'penalty': ['l2'], 'solver': ['lbfgs']},\n",
      "                   random_state=99, scoring='roc_auc')\n",
      "AUC (Train): 0.7674\n"
     ]
    }
   ],
   "source": [
    "penalty = ['l2']\n",
    "solver = ['lbfgs']\n",
    "hyperparameters = dict(penalty=penalty, solver=solver)\n",
    "\n",
    "rs = RandomizedSearchCV(lr, hyperparameters, scoring='roc_auc', random_state=99, cv=2, n_iter=5)\n",
    "rs.fit(X_train, y_train)\n",
    "eval_classification(rs)"
   ]
  },
  {
   "cell_type": "code",
   "execution_count": 534,
   "id": "64e3564b-df82-476e-af6b-2bcbeeea10c0",
   "metadata": {
    "tags": []
   },
   "outputs": [],
   "source": [
    "# Feature importance for Logistic Regression\n",
    "feature_names = X_train.columns\n",
    "coefficient = rs.best_estimator_.coef_[0]"
   ]
  },
  {
   "cell_type": "code",
   "execution_count": 537,
   "id": "a9cc1d3f-c4da-4b37-99f7-c1385cd92cad",
   "metadata": {
    "tags": []
   },
   "outputs": [],
   "source": [
    "feature_importance = pd.DataFrame({'Feature Name': feature_names, 'Coefficient': coefficient})"
   ]
  },
  {
   "cell_type": "code",
   "execution_count": 547,
   "id": "7f36db98-eb11-4773-8556-7ebfe2e99e45",
   "metadata": {
    "tags": []
   },
   "outputs": [
    {
     "data": {
      "image/png": "[encoded data removed]",
      "text/plain": [
       "<Figure size 800x500 with 1 Axes>"
      ]
     },
     "metadata": {},
     "output_type": "display_data"
    }
   ],
   "source": [
    "feature_importance['Abs Coefficient'] = feature_importance['Coefficient'].abs()\n",
    "feature_importance_sort = feature_importance.sort_values(by='Abs Coefficient', ascending=False).head(15)\n",
    "\n",
    "plt.figure(figsize=(8, 5))\n",
    "sns.barplot(x='Abs Coefficient', y='Feature Name', data=feature_importance_sort, dodge=False)\n",
    "plt.title('Feature Importance Score')\n",
    "plt.tight_layout()"
   ]
  },
  {
   "cell_type": "code",
   "execution_count": 550,
   "id": "4fcc66d2-b97e-44b8-9b2d-a0b2724d4b60",
   "metadata": {
    "tags": []
   },
   "outputs": [
    {
     "name": "stdout",
     "output_type": "stream",
     "text": [
      "DecisionTreeClassifier()\n",
      "AUC (Train): 1.0000\n"
     ]
    }
   ],
   "source": [
    "eval_classification(dt)"
   ]
  },
  {
   "cell_type": "code",
   "execution_count": 558,
   "id": "da48f88a-f60c-4082-93dc-e258c209ba39",
   "metadata": {
    "tags": []
   },
   "outputs": [],
   "source": [
    "def show_feature_importance(model):\n",
    "    feat_importances = pd.Series(model.feature_importances_, index=X_train.columns)\n",
    "    ax = feat_importances.nlargest(15).plot(kind='barh', figsize=(10, 8))\n",
    "    ax.invert_yaxis()\n",
    "\n",
    "    plt.xlabel('score')\n",
    "    plt.ylabel('feature')\n",
    "    plt.title('Feature Importance Score')"
   ]
  },
  {
   "cell_type": "code",
   "execution_count": 560,
   "id": "0da014b2-35b6-487c-96be-cede82f9e2f9",
   "metadata": {
    "tags": []
   },
   "outputs": [
    {
     "data": {
      "image/png": "[encoded data removed]",
      "text/plain": [
       "<Figure size 1000x800 with 1 Axes>"
      ]
     },
     "metadata": {},
     "output_type": "display_data"
    }
   ],
   "source": [
    "show_feature_importance(dt)"
   ]
  },
  {
   "cell_type": "code",
   "execution_count": 564,
   "id": "ccfa8840-ca69-4d95-a4ce-32213725146c",
   "metadata": {
    "tags": []
   },
   "outputs": [
    {
     "name": "stdout",
     "output_type": "stream",
     "text": [
      "RandomForestClassifier()\n",
      "AUC (Train): 1.0000\n"
     ]
    }
   ],
   "source": [
    "eval_classification(rf)"
   ]
  },
  {
   "cell_type": "code",
   "execution_count": 568,
   "id": "07247640-81fc-4121-9f1c-bfe645bba673",
   "metadata": {
    "tags": []
   },
   "outputs": [
    {
     "data": {
      "image/png": "[encoded data removed]",
      "text/plain": [
       "<Figure size 1000x800 with 1 Axes>"
      ]
     },
     "metadata": {},
     "output_type": "display_data"
    }
   ],
   "source": [
    "show_feature_importance(rf)"
   ]
  },
  {
   "cell_type": "code",
   "execution_count": null,
   "id": "de413917-90ce-413b-b73a-62e71a1c1393",
   "metadata": {},
   "outputs": [],
   "source": []
  }
 ],
 "metadata": {
  "kernelspec": {
   "display_name": "Python 3 (ipykernel)",
   "language": "python",
   "name": "python3"
  },
  "language_info": {
   "codemirror_mode": {
    "name": "ipython",
    "version": 3
   },
   "file_extension": ".py",
   "mimetype": "text/x-python",
   "name": "python",
   "nbconvert_exporter": "python",
   "pygments_lexer": "ipython3",
   "version": "3.10.13"
  }
 },
 "nbformat": 4,
 "nbformat_minor": 5
}
